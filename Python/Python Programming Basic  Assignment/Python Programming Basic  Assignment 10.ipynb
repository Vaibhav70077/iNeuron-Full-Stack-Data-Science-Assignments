{
 "cells": [
  {
   "cell_type": "markdown",
   "metadata": {},
   "source": [
    "# Q1: Write a Python program to find sum of elements in list?"
   ]
  },
  {
   "cell_type": "code",
   "execution_count": 1,
   "metadata": {},
   "outputs": [
    {
     "name": "stdout",
     "output_type": "stream",
     "text": [
      "Enter the range of the list: 7\n",
      "Enter a number: 67\n",
      "Enter a number: 45\n",
      "Enter a number: 36\n",
      "Enter a number: 73\n",
      "Enter a number: 78\n",
      "Enter a number: 23\n",
      "Enter a number: 5\n",
      "\n",
      "The list is:\t [67, 45, 36, 73, 78, 23, 5]\n",
      "\n",
      "The sum of all the elements in the list is: 327\n"
     ]
    }
   ],
   "source": [
    "while True:\n",
    "    upper = int(input(\"Enter the range of the list: \"))\n",
    "    if upper >= 10 or upper <= 0:\n",
    "        print(\"Very high range, negative value or zero entered. Try again.\")\n",
    "    else:\n",
    "        break\n",
    "lst = []\n",
    "for i in range(0,upper):\n",
    "    num = int(input(\"Enter a number: \"))\n",
    "    lst.append(num)\n",
    "print(\"\\nThe list is:\\t\",lst)\n",
    "a = 0 # empty variable 'a' with value zero\n",
    "for i in lst:\n",
    "    a += i\n",
    "print(\"\\nThe sum of all the elements in the list is:\",a)"
   ]
  },
  {
   "cell_type": "markdown",
   "metadata": {},
   "source": [
    "# Q2: Write a Python program to Multiply all numbers in the list?"
   ]
  },
  {
   "cell_type": "code",
   "execution_count": 2,
   "metadata": {},
   "outputs": [
    {
     "name": "stdout",
     "output_type": "stream",
     "text": [
      "Enter the range of the list: 7\n",
      "Enter a number: 34\n",
      "Enter a number: 234\n",
      "Enter a number: 68\n",
      "Enter a number: 98\n",
      "Enter a number: 12\n",
      "Enter a number: 34\n",
      "Enter a number: 5\n",
      "The multiplication of all the elements in the list is: 108158319360\n"
     ]
    }
   ],
   "source": [
    "while True:\n",
    "    upper = int(input(\"Enter the range of the list: \"))\n",
    "    if upper >= 10 or upper <= 0:\n",
    "        print(\"Very high range, negative value or zero entered. Try again.\")\n",
    "    else:\n",
    "        break\n",
    "lst = []\n",
    "for i in range(0,upper):\n",
    "    num = int(input(\"Enter a number: \"))\n",
    "    lst.append(num)\n",
    "b = 1\n",
    "for i in lst:\n",
    "    b *= i\n",
    "print(\"The multiplication of all the elements in the list is:\",b)"
   ]
  },
  {
   "cell_type": "markdown",
   "metadata": {},
   "source": [
    "# Q3: Write a Python program to find smallest number in a list?"
   ]
  },
  {
   "cell_type": "code",
   "execution_count": 3,
   "metadata": {},
   "outputs": [
    {
     "name": "stdout",
     "output_type": "stream",
     "text": [
      "Enter the range of the list: 5\n",
      "Enter a number: 54\n",
      "Enter a number: 345345\n",
      "Enter a number: 675\n",
      "Enter a number: 98\n",
      "Enter a number: 34\n",
      "The list is:  [54, 345345, 675, 98, 34]\n",
      "Smallest number in the list is:  34\n"
     ]
    }
   ],
   "source": [
    "while True:\n",
    "    upper = int(input(\"Enter the range of the list: \"))\n",
    "    if upper >= 10 or upper <= 0:\n",
    "        print(\"Very high range, negative value or zero entered. Try again.\")\n",
    "    else:\n",
    "        break\n",
    "lst = []\n",
    "for i in range(0,upper):\n",
    "    num = int(input(\"Enter a number: \"))\n",
    "    lst.append(num)\n",
    "print(\"The list is: \",lst)\n",
    "for i in range(0,upper):\n",
    "    lst.sort()\n",
    "print(\"Smallest number in the list is: \",lst[0])"
   ]
  },
  {
   "cell_type": "markdown",
   "metadata": {},
   "source": [
    "# Q4: Write a Python program to find largest number in a list?"
   ]
  },
  {
   "cell_type": "code",
   "execution_count": 5,
   "metadata": {},
   "outputs": [
    {
     "name": "stdout",
     "output_type": "stream",
     "text": [
      "Enter the range of the list: 5\n",
      "Enter a number: 24\n",
      "Enter a number: 87\n",
      "Enter a number: 98\n",
      "Enter a number: 23\n",
      "Enter a number: 45\n",
      "The list is:  [24, 87, 98, 23, 45]\n",
      "Largest number in the list is:  98\n"
     ]
    }
   ],
   "source": [
    "while True:\n",
    "    upper = int(input(\"Enter the range of the list: \"))\n",
    "    if upper >= 10 or upper <= 0:\n",
    "        print(\"Very high range, negative value or zero entered. Try again.\")\n",
    "    else:\n",
    "        break\n",
    "lst = []\n",
    "for i in range(0,upper):\n",
    "    num = int(input(\"Enter a number: \"))\n",
    "    lst.append(num)\n",
    "print(\"The list is: \",lst)\n",
    "for i in range(0,upper):\n",
    "    lst.sort()\n",
    "print(\"Largest number in the list is: \",lst[upper-1])"
   ]
  },
  {
   "cell_type": "markdown",
   "metadata": {},
   "source": [
    "# Q5: Write a Python program to find second largest number in a list?"
   ]
  },
  {
   "cell_type": "code",
   "execution_count": 8,
   "metadata": {},
   "outputs": [
    {
     "name": "stdout",
     "output_type": "stream",
     "text": [
      "Enter the range of the list: 5\n",
      "Enter a number: 234\n",
      "Enter a number: 56\n",
      "Enter a number: 34\n",
      "Enter a number: 566\n",
      "Enter a number: 35\n",
      "The list is:  [234, 56, 34, 566, 35]\n",
      "Second largest element in the list is: 234\n"
     ]
    }
   ],
   "source": [
    "while True:\n",
    "    upper = int(input(\"Enter the range of the list: \"))\n",
    "    if upper >= 10 or upper <= 0:\n",
    "        print(\"Very high range, negative value or zero entered. Try again.\")\n",
    "    else:\n",
    "        break\n",
    "lst = []\n",
    "for i in range(0,upper):\n",
    "    num = int(input(\"Enter a number: \"))\n",
    "    lst.append(num)\n",
    "print(\"The list is: \",lst)\n",
    "for i in range(0,upper):\n",
    "    lst.sort()\n",
    "print(\"Second largest element in the list is:\",lst[-2])"
   ]
  },
  {
   "cell_type": "markdown",
   "metadata": {},
   "source": [
    "# Q6: Write a Python program to find N largest elements from a list?"
   ]
  },
  {
   "cell_type": "code",
   "execution_count": 9,
   "metadata": {},
   "outputs": [
    {
     "name": "stdout",
     "output_type": "stream",
     "text": [
      "2 largest elements in the list: [85, 41]\n"
     ]
    }
   ],
   "source": [
    "def N_max_elements(list, N):\n",
    "    result_list = []\n",
    "  \n",
    "    for i in range(0, N): \n",
    "        maximum = 0\n",
    "          \n",
    "        for j in range(len(list)):     \n",
    "            if list[j] > maximum:\n",
    "                maximum = list[j]\n",
    "                  \n",
    "        list.remove(maximum)\n",
    "        result_list.append(maximum)\n",
    "          \n",
    "    return result_list\n",
    "list1 = [2, 6, 41, 85, 0, 3, 7, 6, 10]\n",
    "N = 2\n",
    "print(N, \"largest elements in the list:\",N_max_elements(list1, N))"
   ]
  },
  {
   "cell_type": "markdown",
   "metadata": {},
   "source": [
    "# Q7: Write a Python program to print even numbers in a list?"
   ]
  },
  {
   "cell_type": "code",
   "execution_count": 10,
   "metadata": {},
   "outputs": [
    {
     "name": "stdout",
     "output_type": "stream",
     "text": [
      "Enter the range of the list: 7\n",
      "Enter a number: 32\n",
      "Enter a number: 45\n",
      "Enter a number: 752\n",
      "Enter a number: 73\n",
      "Enter a number: 43\n",
      "Enter a number: 456\n",
      "Enter a number: 331\n",
      "The list is:  [32, 45, 752, 73, 43, 456, 331]\n",
      "All the even numbers in the list are:\n",
      "32 752 456 "
     ]
    },
    {
     "data": {
      "text/plain": [
       "[None, None, None]"
      ]
     },
     "execution_count": 10,
     "metadata": {},
     "output_type": "execute_result"
    }
   ],
   "source": [
    "while True:\n",
    "    upper = int(input(\"Enter the range of the list: \"))\n",
    "    if upper >= 10 or upper <= 0:\n",
    "        print(\"Very high range, negative value or zero entered. Try again.\")\n",
    "    else:\n",
    "        break\n",
    "lst = []\n",
    "for i in range(0,upper):\n",
    "    num = int(input(\"Enter a number: \"))\n",
    "    lst.append(num)\n",
    "print(\"The list is: \",lst)\n",
    "print(\"All the even numbers in the list are:\")\n",
    "[print(lst[i],end=\" \") for i in range(len(lst)) if lst[i]%2==0 ]"
   ]
  },
  {
   "cell_type": "markdown",
   "metadata": {},
   "source": [
    "# Q8: Write a Python program to print odd numbers in a List?"
   ]
  },
  {
   "cell_type": "code",
   "execution_count": 11,
   "metadata": {},
   "outputs": [
    {
     "name": "stdout",
     "output_type": "stream",
     "text": [
      "Enter the range of the list: 8\n",
      "Enter a number: 24\n",
      "Enter a number: 56\n",
      "Enter a number: 2\n",
      "Enter a number: 3\n",
      "Enter a number: 79\n",
      "Enter a number: 87\n",
      "Enter a number: 99\n",
      "Enter a number: 31\n",
      "The list is:  [24, 56, 2, 3, 79, 87, 99, 31]\n",
      "All the even numbers in the list are:\n",
      "3 79 87 99 31 "
     ]
    },
    {
     "data": {
      "text/plain": [
       "[None, None, None, None, None]"
      ]
     },
     "execution_count": 11,
     "metadata": {},
     "output_type": "execute_result"
    }
   ],
   "source": [
    "while True:\n",
    "    upper = int(input(\"Enter the range of the list: \"))\n",
    "    if upper >= 10 or upper <= 0:\n",
    "        print(\"Very high range, negative value or zero entered. Try again.\")\n",
    "    else:\n",
    "        break\n",
    "lst = []\n",
    "for i in range(0,upper):\n",
    "    num = int(input(\"Enter a number: \"))\n",
    "    lst.append(num)\n",
    "print(\"The list is: \",lst)\n",
    "print(\"All the even numbers in the list are:\")\n",
    "[print(lst[i],end=\" \") for i in range(len(lst)) if lst[i]%2==1 ]"
   ]
  },
  {
   "cell_type": "markdown",
   "metadata": {},
   "source": [
    "# Q9: Write a Python program to Remove empty List from List?"
   ]
  },
  {
   "cell_type": "code",
   "execution_count": 12,
   "metadata": {},
   "outputs": [
    {
     "name": "stdout",
     "output_type": "stream",
     "text": [
      "The original list is :  [5, 6, [], 3, [], 55, [], 10, [], 9]\n",
      "List after empty list removal :  [5, 6, 3, 55, 10, 9]\n"
     ]
    }
   ],
   "source": [
    "lst = [5, 6, [], 3, [], 55, [], 10, [], 9]\n",
    "print(\"The original list is : \",lst)\n",
    "res = [i for i in lst if i != []]\n",
    "print (\"List after empty list removal : \",res)"
   ]
  },
  {
   "cell_type": "markdown",
   "metadata": {},
   "source": [
    "# Q10: Write a Python program to Cloning or Copying a list?"
   ]
  },
  {
   "cell_type": "code",
   "execution_count": 13,
   "metadata": {},
   "outputs": [
    {
     "name": "stdout",
     "output_type": "stream",
     "text": [
      "Enter the range of the list: 5\n",
      "Enter a number: 45\n",
      "Enter a number: 65\n",
      "Enter a number: 98\n",
      "Enter a number: 87\n",
      "Enter a number: 76\n",
      "\n",
      "The list is:  [45, 65, 98, 87, 76]\n",
      "\n",
      "The cloned list is:  [45, 65, 98, 87, 76]\n"
     ]
    }
   ],
   "source": [
    "while True:\n",
    "    upper = int(input(\"Enter the range of the list: \"))\n",
    "    if upper >= 10 or upper <= 0:\n",
    "        print(\"Very high range, negative value or zero entered. Try again.\")\n",
    "    else:\n",
    "        break\n",
    "lst1 , lst2  = [] , []\n",
    "for i in range(0,upper):\n",
    "    num = int(input(\"Enter a number: \"))\n",
    "    lst1.append(num)\n",
    "for i in range(len(lst1)):\n",
    "    lst2.append(lst1[i])\n",
    "print(\"\\nThe list is: \",lst1)\n",
    "print(\"\\nThe cloned list is: \",lst2)"
   ]
  },
  {
   "cell_type": "markdown",
   "metadata": {},
   "source": [
    "# Q11: Write a Python program to Count occurrences of an element in a list?"
   ]
  },
  {
   "cell_type": "code",
   "execution_count": 16,
   "metadata": {},
   "outputs": [
    {
     "name": "stdout",
     "output_type": "stream",
     "text": [
      "Enter the range of the list: 7\n",
      "Enter a string: dsafs\n",
      "Enter a string: hfgtr\n",
      "Enter a string: vaibhav\n",
      "Enter a string: gupta\n",
      "Enter a string: vaibhav\n",
      "Enter a string: shdj\n",
      "Enter a string: vaibhav\n",
      "The list is: ['dsafs', 'hfgtr', 'vaibhav', 'gupta', 'vaibhav', 'shdj', 'vaibhav']\n",
      "Enter the string to be counted in the list:vaibhav\n",
      "vaibhav is repeated 3 times in the list\n"
     ]
    }
   ],
   "source": [
    "while True:\n",
    "    upper = int(input(\"Enter the range of the list: \"))\n",
    "    if upper >= 10 or upper <= 0:\n",
    "        print(\"Very high range, negative value or zero entered. Try again.\")\n",
    "    else:\n",
    "        break\n",
    "lst = []\n",
    "for i in range(0,upper):\n",
    "    string = str(input(\"Enter a string: \"))\n",
    "    lst.append(string)\n",
    "print(\"The list is:\",lst)\n",
    "elem = str(input(\"Enter the string to be counted in the list:\"))    \n",
    "cnt = lst.count(elem)\n",
    "print(elem,\"is repeated\",cnt,\"times in the list\")"
   ]
  }
 ],
 "metadata": {
  "kernelspec": {
   "display_name": "Python 3",
   "language": "python",
   "name": "python3"
  },
  "language_info": {
   "codemirror_mode": {
    "name": "ipython",
    "version": 3
   },
   "file_extension": ".py",
   "mimetype": "text/x-python",
   "name": "python",
   "nbconvert_exporter": "python",
   "pygments_lexer": "ipython3",
   "version": "3.8.5"
  }
 },
 "nbformat": 4,
 "nbformat_minor": 4
}
