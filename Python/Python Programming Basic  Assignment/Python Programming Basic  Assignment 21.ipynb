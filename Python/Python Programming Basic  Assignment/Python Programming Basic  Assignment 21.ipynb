{
 "cells": [
  {
   "cell_type": "markdown",
   "metadata": {},
   "source": [
    "# Q1: Write a function that takes a list and a number as arguments. Add the number to the end of the list, then remove the first element of the list. The function should then return the updated list."
   ]
  },
  {
   "cell_type": "markdown",
   "metadata": {},
   "source": [
    "Ex:\n",
    "\n",
    "i. next_in_line([5, 6, 7, 8, 9], 1) ➞ [6, 7, 8, 9, 1]\n",
    "\n",
    "ii. next_in_line([7, 6, 3, 23, 17], 10) ➞ [6, 3, 23, 17, 10]\n",
    "\n",
    "iii. next_in_line([1, 10, 20, 42 ], 6) ➞ [10, 20, 42, 6]\n",
    "\n",
    "iv. next_in_line([], 6) ➞ \"No list has been selected\""
   ]
  },
  {
   "cell_type": "code",
   "execution_count": 2,
   "metadata": {},
   "outputs": [
    {
     "name": "stdout",
     "output_type": "stream",
     "text": [
      "Enter the range of list: 6\n",
      "Enter a number:7\n",
      "Enter a number:6\n",
      "Enter a number:3\n",
      "Enter a number:23\n",
      "Enter a number:17\n",
      "Enter a number:10\n",
      "The list is [7, 6, 3, 23, 17, 10]\n",
      "The list after removing the first index is: [6, 3, 23, 17, 10]\n"
     ]
    }
   ],
   "source": [
    "def next_in_line():\n",
    "    upper = int(input(\"Enter the range of list: \"))\n",
    "    list_input = [int(input(\"Enter a number:\")) for x in range(upper)]\n",
    "    list_updated = []\n",
    "    for i in list_input:\n",
    "        if list_input.index(i) == 0: continue\n",
    "        else: list_updated.append(i)\n",
    "    print(\"The list is\",list_input)\n",
    "    print(\"The list after removing the first index is:\",list_updated)\n",
    "next_in_line()"
   ]
  },
  {
   "cell_type": "markdown",
   "metadata": {},
   "source": [
    "# Q2: Create the function that takes a list of dictionaries and returns the sum of people's budgets."
   ]
  },
  {
   "cell_type": "markdown",
   "metadata": {},
   "source": [
    "Ex:\n",
    "\n",
    "i. get_budgets: ([{ \"name\": \"John\", \"age\": 21, \"budget\": 23000 }, { \"name\": \"Steve\", \"age\": 32, \"budget\": 40000 }, { \"name\": \"Martin\", \"age\": 16, \"budget\": 2700 }])\n",
    "➞ 65700\n",
    "\n",
    "ii. get_budgets ([{ \"name\": \"John\", \"age\": 21, \"budget\": 29000 }, { \"name\": \"Steve\", \"age\": 32, \"budget\": 32000 }, { \"name\": \"Martin\", \"age\": 16, \"budget\": 1600 }])\n",
    "➞ 62600"
   ]
  },
  {
   "cell_type": "code",
   "execution_count": 10,
   "metadata": {},
   "outputs": [],
   "source": [
    "def get_budgets():\n",
    "    upper = int(input(\"Enter total number of entries you want to make: \"))\n",
    "    num = int(input(\"enter the total key-value pairs in the dictionary: \"))\n",
    "    d = {}\n",
    "    for y in range(upper):\n",
    "        for i in range(num):\n",
    "            keys = input(\"Enter Key: \") # here i have taken keys as strings\n",
    "            values = int(input(\"Enter Values: \")) # here i have taken values as integers\n",
    "            d[keys] = values\n",
    "    print(d)\n",
    "get_budgets()"
   ]
  },
  {
   "cell_type": "markdown",
   "metadata": {},
   "source": [
    "# Q3: Create a function that takes a string and returns a string with its letters in alphabetical order."
   ]
  },
  {
   "cell_type": "markdown",
   "metadata": {},
   "source": [
    "Ex:\n",
    "\n",
    "i. alphabet_soup(\"hello\") ➞ \"ehllo\"\n",
    "\n",
    "ii. alphabet_soup(\"edabit\") ➞ \"abdeit\"\n",
    "\n",
    "iii. alphabet_soup(\"hacker\") ➞ \"acehkr\"\n",
    "\n",
    "iv. alphabet_soup(\"geek\") ➞ \"eegk\"\n",
    "\n",
    "v. alphabet_soup(\"javascript\") ➞ \"aacijprstv\""
   ]
  },
  {
   "cell_type": "code",
   "execution_count": 12,
   "metadata": {},
   "outputs": [
    {
     "name": "stdout",
     "output_type": "stream",
     "text": [
      "Enter a word: hacker\n",
      "The reverse of hacker is acehkr\n"
     ]
    }
   ],
   "source": [
    "def alphabet_soup():\n",
    "    string_input = str(input(\"Enter a word: \"))\n",
    "    sorted_string = sorted(string_input)\n",
    "    final_string = \"\".join(sorted_string)\n",
    "    print(\"The reverse of\",string_input,\"is\",final_string)\n",
    "alphabet_soup()"
   ]
  },
  {
   "cell_type": "markdown",
   "metadata": {},
   "source": [
    "# Q4: Suppose that you invest 10,000USDs for 10 years at an interest rate of 6% compounded monthly. What will be the value of your investment at the end of the 10 year period?"
   ]
  },
  {
   "cell_type": "markdown",
   "metadata": {},
   "source": [
    "Create a function that accepts the principal p, the term in years t, the interest rate r, and the number of compounding periods per year n. The function returns the value at the end of term rounded to the nearest cent.\n",
    "\n",
    "For example:\n",
    "\n",
    "compound_interest(10000, 10, 0.06, 12) ➞ 18193.97\n",
    "\n",
    "Note that the interest rate is given as a decimal and n=12 because with monthly compounding there are 12 periods per year. Compounding can also be done annually, quarterly, weekly, or daily."
   ]
  },
  {
   "cell_type": "markdown",
   "metadata": {},
   "source": [
    "Ex:\n",
    "\n",
    "i. compound_interest(100, 1, 0.05, 1) ➞ 105.0\n",
    "\n",
    "ii. compound_interest(3500, 15, 0.1, 4) ➞ 15399.26\n",
    "\n",
    "iii. compound_interest(100000, 20, 0.15, 365) ➞ 2007316.26"
   ]
  },
  {
   "cell_type": "code",
   "execution_count": 13,
   "metadata": {},
   "outputs": [
    {
     "name": "stdout",
     "output_type": "stream",
     "text": [
      "The following program will calculate the Compund Interest.\n",
      "\n",
      "Enter the Principle amount: 3500\n",
      "Enter the term: 15\n",
      "the interest rate r: 0.1\n",
      "number of compounding periods per year n: 4\n",
      "The Compund Interest is $ 15399.26\n"
     ]
    }
   ],
   "source": [
    "def compound_interest():\n",
    "    print(\"The following program will calculate the Compund Interest.\\n\")\n",
    "    principle = int(input(\"Enter the Principle amount: \"))\n",
    "    term = int(input(\"Enter the term: \"))      \n",
    "    rate = float(input(\"the interest rate r: \"))\n",
    "    n_years = int(input(\"number of compounding periods per year n: \"))\n",
    "    compund_in = (principle*(1+(rate/n_years))**(n_years*term))\n",
    "    print(\"The Compund Interest is $\",round(compund_in,2))\n",
    "compound_interest()"
   ]
  },
  {
   "cell_type": "markdown",
   "metadata": {},
   "source": [
    "# Q5: Write a function that takes a list of elements and returns only the integers."
   ]
  },
  {
   "cell_type": "markdown",
   "metadata": {},
   "source": [
    "Ex:\n",
    "\n",
    "i. return_only_integer([9, 2, \"space\", \"car\", \"lion\", 16]) ➞ [9, 2, 16]\n",
    "\n",
    "ii. return_only_integer([\"hello\", 81, \"basketball\", 123, \"fox\"]) ➞ [81, 123]\n",
    "\n",
    "iii. return_only_integer([10, \"121\", 56, 20, \"car\", 3, \"lion\"]) ➞ [10, 56, 20, 3]\n",
    "\n",
    "iv. return_only_integer([\"String\", True, 3.3, 1]) ➞ [1]"
   ]
  },
  {
   "cell_type": "code",
   "execution_count": 14,
   "metadata": {},
   "outputs": [
    {
     "name": "stdout",
     "output_type": "stream",
     "text": [
      "The list is: [9, 34, 2, 'space', 'car', 'lion', 16, 345, 'Hello']\n",
      "The integers in the list is: [9, 34, 2, 16, 345]\n"
     ]
    }
   ],
   "source": [
    "def return_only_integer():\n",
    "    data_list = [9, 34, 2, \"space\", \"car\", \"lion\", 16, 345, \"Hello\"]\n",
    "    empty_list = []\n",
    "    for i in data_list:\n",
    "        if type(i) == int:\n",
    "            empty_list.append(i)\n",
    "    print(\"The list is:\",data_list)\n",
    "    print(\"The integers in the list is:\",empty_list)\n",
    "return_only_integer()"
   ]
  },
  {
   "cell_type": "code",
   "execution_count": null,
   "metadata": {},
   "outputs": [],
   "source": []
  }
 ],
 "metadata": {
  "kernelspec": {
   "display_name": "Python 3",
   "language": "python",
   "name": "python3"
  },
  "language_info": {
   "codemirror_mode": {
    "name": "ipython",
    "version": 3
   },
   "file_extension": ".py",
   "mimetype": "text/x-python",
   "name": "python",
   "nbconvert_exporter": "python",
   "pygments_lexer": "ipython3",
   "version": "3.8.5"
  }
 },
 "nbformat": 4,
 "nbformat_minor": 4
}
