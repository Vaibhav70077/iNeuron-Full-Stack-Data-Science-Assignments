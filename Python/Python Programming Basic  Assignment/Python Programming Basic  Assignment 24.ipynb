{
 "cells": [
  {
   "cell_type": "markdown",
   "metadata": {},
   "source": [
    "# Q1: Create a function that takes an integer and returns a list from 1 to the given number, where:"
   ]
  },
  {
   "cell_type": "markdown",
   "metadata": {},
   "source": [
    "1. If the number can be divided evenly by 4, amplify it by 10 (i.e. return 10 times the number).\n",
    "2. If the number cannot be divided evenly by 4, simply return the number.\n",
    "Ex:\n",
    "\n",
    "i. amplify(4) ➞ [1, 2, 3, 40]\n",
    "\n",
    "ii. amplify(3) ➞ [1, 2, 3]\n",
    "\n",
    "iii. amplify(25) ➞ [1, 2, 3, 40, 5, 6, 7, 80, 9, 10, 11, 120, 13, 14, 15, 160, 17, 18, 19, 200, 21, 22, 23, 240, 25]\n",
    "\n",
    "Notes:\n",
    "1. The given integer will always be equal to or greater than 1\n",
    "2. Include the number (see example above).\n",
    "3. To perform this problem with its intended purpose, try doing it with list comprehensions. If that's too difficult, just solve the challenge any way you can."
   ]
  },
  {
   "cell_type": "code",
   "execution_count": 4,
   "metadata": {},
   "outputs": [
    {
     "name": "stdout",
     "output_type": "stream",
     "text": [
      "Enter a number: 25\n",
      "[1, 2, 3, 40, 5, 6, 7, 80, 9, 10, 11, 120, 13, 14, 15, 160, 17, 18, 19, 200, 21, 22, 23, 240, 25]\n"
     ]
    }
   ],
   "source": [
    "def amplify():\n",
    "    number = int(input(\"Enter a number: \"))\n",
    "    l = []\n",
    "    for i in range(1,number+1):\n",
    "        if i%4 == 0:\n",
    "            l.append(i*10)\n",
    "            continue\n",
    "        l.append(i)\n",
    "    print(l)\n",
    "amplify()"
   ]
  },
  {
   "cell_type": "markdown",
   "metadata": {},
   "source": [
    "# Q2: Create a function that takes a list of numbers and return the number that's unique."
   ]
  },
  {
   "cell_type": "markdown",
   "metadata": {},
   "source": [
    "Ex:\n",
    "\n",
    "i. unique([3, 3, 3, 7, 3, 3]) ➞ 7\n",
    "\n",
    "ii. unique([0, 0, 0.77, 0, 0]) ➞ 0.77\n",
    "\n",
    "iii. unique([0, 1, 1, 1, 1, 1, 1, 1]) ➞ 0\n",
    "\n",
    "Note: Test cases will always have exactly one unique number while all others are the same."
   ]
  },
  {
   "cell_type": "code",
   "execution_count": 5,
   "metadata": {},
   "outputs": [
    {
     "name": "stdout",
     "output_type": "stream",
     "text": [
      "Enter the range of the list: 6\n",
      "\tEnter a number: 3\n",
      "\tEnter a number: 3\n",
      "\tEnter a number: 3\n",
      "\tEnter a number: 7\n",
      "\tEnter a number: 3\n",
      "\tEnter a number: 3\n",
      "The list is - [3.0, 3.0, 3.0, 7.0, 3.0, 3.0]\n",
      "The unique value is 7.0\n"
     ]
    }
   ],
   "source": [
    "def unique():\n",
    "    upper = int(input(\"Enter the range of the list: \"))\n",
    "    while True:\n",
    "        numbers = [float(input(\"\\tEnter a number: \")) for i in range (upper)]\n",
    "        set_numbers,count = set(numbers),0\n",
    "        for i in set_numbers: count+=1\n",
    "        if count > 2 or count <= 0:6\n",
    "            \n",
    "            print(\"Enter exactly one unique number while all others are the same.\")\n",
    "        else: break\n",
    "    print(\"The list is -\",numbers) \n",
    "    list_from_set = list(set_numbers) \n",
    "    count_a = numbers.count(list_from_set[0])\n",
    "    count_b = numbers.count(list_from_set[1])\n",
    "    if count_a < count_b: print(\"The unique value is\",list_from_set[0])\n",
    "    else: print(\"The unique value is\",list_from_set[1])\n",
    "unique()"
   ]
  },
  {
   "cell_type": "markdown",
   "metadata": {},
   "source": [
    "# Q3: Your task is to create a Circle constructor that creates a circle with a radius provided by an argument. The circles constructed must have two getters getArea() (PIr^2) and getPerimeter() (2PI*r) which give both respective areas and perimeter (circumference)."
   ]
  },
  {
   "cell_type": "markdown",
   "metadata": {},
   "source": [
    "For help with this class, I have provided you with a Rectangle constructor which you can use as a base example.\n",
    "\n",
    "Ex:\n",
    "\n",
    "i.a: circy = Circle(11)\n",
    "\n",
    "i.a: circy.getArea()\n",
    "\n",
    "The final result should return 380.132711084365\n",
    "\n",
    "i.b: circy = Circle(4.44)\n",
    "\n",
    "i.b: circy.getPerimeter()\n",
    "\n",
    "The final result should return 27.897342763877365\n",
    "\n",
    "Note: Round results up to the nearest integer."
   ]
  },
  {
   "cell_type": "code",
   "execution_count": 7,
   "metadata": {},
   "outputs": [
    {
     "name": "stdout",
     "output_type": "stream",
     "text": [
      "Enter the radius: 4.44\n",
      "The area is -  61.90070400000001\n",
      "The perimeter is -  27.883200000000002\n"
     ]
    }
   ],
   "source": [
    "class Circle():\n",
    "    def __init__(self, r):\n",
    "        self.radius = r\n",
    "    def Area(self):\n",
    "        return (self.radius**2)*3.14\n",
    "    def getPerimeter(self):\n",
    "        return self.radius*(3.14*2)\n",
    "circy = Circle(float(input(\"Enter the radius: \")))\n",
    "print(\"The area is - \",circy.Area())\n",
    "print(\"The perimeter is - \",circy.getPerimeter())"
   ]
  },
  {
   "cell_type": "markdown",
   "metadata": {},
   "source": [
    "# Q4: Create a function that takes a list of strings and return a list, sorted from shortest to longest"
   ]
  },
  {
   "cell_type": "markdown",
   "metadata": {},
   "source": [
    "Ex:\n",
    "\n",
    "i. sort_by_length([\"Google\", \"Apple\", \"Microsoft\"]) ➞ [\"Apple\", \"Google\", \"Microsoft\"]\n",
    "\n",
    "ii. sort_by_length([\"Leonardo\", \"Michelangelo\", \"Raphael\", \"Donatello\"]) ➞ [\"Raphael\", \"Leonardo\", \"Donatello\", \"Michelangelo\"]\n",
    "\n",
    "iii. sort_by_length([\"Turing\", \"Einstein\", \"Jung\"]) ➞ [\"Jung\", \"Turing\", \"Einstein\"]\n",
    "\n",
    "Notes:\n",
    "All test cases contain lists with strings of different lengths, so you won't have to deal with multiple strings of the same length."
   ]
  },
  {
   "cell_type": "code",
   "execution_count": 8,
   "metadata": {},
   "outputs": [
    {
     "name": "stdout",
     "output_type": "stream",
     "text": [
      "Enter a the range of the list: 3\n",
      "Enter any name: google\n",
      "Enter any name: apple\n",
      "Enter any name: microsoft\n",
      "['google', 'apple', 'microsoft']\n",
      "['apple', 'google', 'microsoft']\n"
     ]
    }
   ],
   "source": [
    "def sort_by_length():\n",
    "    upper = int(input(\"Enter a the range of the list: \"))\n",
    "    string_list = [str(input(\"Enter any name: \")) for i in range(upper)]\n",
    "    print(string_list)\n",
    "    sorted_list = sorted(string_list,key=len)\n",
    "    print(sorted_list)\n",
    "sort_by_length()"
   ]
  },
  {
   "cell_type": "markdown",
   "metadata": {},
   "source": [
    "# Q5: Create a function that validates whether three given integers form a Pythagorean triplet. The sum of the squares of the two smallest integers must equal the square of the largest number to be validated."
   ]
  },
  {
   "cell_type": "markdown",
   "metadata": {},
   "source": [
    "Ex:\n",
    "\n",
    "i. is_triplet(3, 4, 5) ➞ True (3² + 4² = 25 & 5² = 25)\n",
    "\n",
    "ii. is_triplet(13, 5, 12) ➞ True (5² + 12² = 169 & 13² = 169)\n",
    "\n",
    "iii. is_triplet(1, 2, 3) ➞ False (1² + 2² = 5 & 3² = 9)\n",
    "\n",
    "Note: Numbers may not be given in a sorted order."
   ]
  },
  {
   "cell_type": "code",
   "execution_count": 11,
   "metadata": {},
   "outputs": [
    {
     "name": "stdout",
     "output_type": "stream",
     "text": [
      "The following program takes three inputs and then returns one of the two possible outcomes:\n",
      "\t1. True is it a Pythagorean Triplet.\n",
      "\t1. False is it not a Pythagorean Triplet.\n",
      "\n",
      "Input three integers(sides of a triangle):\n",
      "13 5 12\n",
      "Result is: True\n"
     ]
    }
   ],
   "source": [
    "def is_triplet():\n",
    "    print(\"The following program takes three inputs and then returns one of the two possible outcomes:\\n\\t1. True is it a Pythagorean Triplet.\\n\\t1. False is it not a Pythagorean Triplet.\\n\")\n",
    "    print(\"Input three integers(sides of a triangle):\")\n",
    "    x,y,z = sorted(list(map(int,input().split())))\n",
    "    if x**2+y**2==z**2: print(\"Result is: True\")\n",
    "    else: print(\"Result is: False\")\n",
    "is_triplet()"
   ]
  },
  {
   "cell_type": "code",
   "execution_count": null,
   "metadata": {},
   "outputs": [],
   "source": []
  },
  {
   "cell_type": "code",
   "execution_count": null,
   "metadata": {},
   "outputs": [],
   "source": []
  },
  {
   "cell_type": "code",
   "execution_count": null,
   "metadata": {},
   "outputs": [],
   "source": []
  },
  {
   "cell_type": "code",
   "execution_count": null,
   "metadata": {},
   "outputs": [],
   "source": []
  },
  {
   "cell_type": "code",
   "execution_count": null,
   "metadata": {},
   "outputs": [],
   "source": []
  },
  {
   "cell_type": "code",
   "execution_count": null,
   "metadata": {},
   "outputs": [],
   "source": []
  },
  {
   "cell_type": "code",
   "execution_count": null,
   "metadata": {},
   "outputs": [],
   "source": []
  },
  {
   "cell_type": "code",
   "execution_count": null,
   "metadata": {},
   "outputs": [],
   "source": []
  },
  {
   "cell_type": "code",
   "execution_count": null,
   "metadata": {},
   "outputs": [],
   "source": []
  },
  {
   "cell_type": "code",
   "execution_count": null,
   "metadata": {},
   "outputs": [],
   "source": []
  },
  {
   "cell_type": "code",
   "execution_count": null,
   "metadata": {},
   "outputs": [],
   "source": []
  },
  {
   "cell_type": "code",
   "execution_count": null,
   "metadata": {},
   "outputs": [],
   "source": []
  },
  {
   "cell_type": "code",
   "execution_count": null,
   "metadata": {},
   "outputs": [],
   "source": []
  },
  {
   "cell_type": "code",
   "execution_count": null,
   "metadata": {},
   "outputs": [],
   "source": []
  },
  {
   "cell_type": "code",
   "execution_count": null,
   "metadata": {},
   "outputs": [],
   "source": []
  }
 ],
 "metadata": {
  "kernelspec": {
   "display_name": "Python 3",
   "language": "python",
   "name": "python3"
  },
  "language_info": {
   "codemirror_mode": {
    "name": "ipython",
    "version": 3
   },
   "file_extension": ".py",
   "mimetype": "text/x-python",
   "name": "python",
   "nbconvert_exporter": "python",
   "pygments_lexer": "ipython3",
   "version": "3.8.5"
  }
 },
 "nbformat": 4,
 "nbformat_minor": 4
}
