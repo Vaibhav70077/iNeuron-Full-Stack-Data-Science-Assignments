{
 "cells": [
  {
   "cell_type": "markdown",
   "metadata": {},
   "source": [
    "# Q1: Write a Python Program to Find LCM? "
   ]
  },
  {
   "cell_type": "code",
   "execution_count": 2,
   "metadata": {},
   "outputs": [
    {
     "name": "stdout",
     "output_type": "stream",
     "text": [
      "Enter the first number:- 3\n",
      "Enter the second number:- 15\n",
      "L.C.M. for 3 & 15 is:-  15\n"
     ]
    }
   ],
   "source": [
    "try:\n",
    "    num_1 = int(input(\"Enter the first number:- \"))\n",
    "    num_2 = int(input(\"Enter the second number:- \"))\n",
    "    if num_1 > num_2:\n",
    "        z = num_1\n",
    "    else:\n",
    "        z = num_2\n",
    "    while True:\n",
    "        if z % num_1 == 0 and z % num_2 == 0:\n",
    "            lcm = z\n",
    "            break\n",
    "        z+=1\n",
    "    print(\"L.C.M. for\",num_1,\"&\",num_2,\"is:- \",lcm)\n",
    "except (ValueError,ZeroDivisionError,KeyError,ArithmeticError) as e:\n",
    "    print(\"There is an error:- \",e,\". Please sort it.\")"
   ]
  },
  {
   "cell_type": "markdown",
   "metadata": {},
   "source": [
    "# Q2: Write a Python Program to Find HCF?"
   ]
  },
  {
   "cell_type": "code",
   "execution_count": 3,
   "metadata": {},
   "outputs": [
    {
     "name": "stdout",
     "output_type": "stream",
     "text": [
      "Enter the first number:- 155\n",
      "Enter the second number:- 25\n",
      "H.C.F. for 155 & 25 is:-  5\n"
     ]
    }
   ],
   "source": [
    "try:\n",
    "    num_1 = int(input(\"Enter the first number:- \"))\n",
    "    num_2 = int(input(\"Enter the second number:- \"))\n",
    "    if num_1 > num_2:\n",
    "        z = num_2\n",
    "    if num_1 < num_2:\n",
    "        z = num_1\n",
    "    for i in range(1,z+1):\n",
    "        if((num_1 % i == 0) and (num_2 % i == 0)):\n",
    "            hcf = i\n",
    "    print(\"H.C.F. for\",num_1,\"&\",num_2,\"is:- \",hcf)\n",
    "except (ValueError,ZeroDivisionError,KeyError,ArithmeticError) as e:\n",
    "    print(\"There is an error:- \",e,\". Please sort it.\")"
   ]
  },
  {
   "cell_type": "markdown",
   "metadata": {},
   "source": [
    "# Q3: Write a Python Program to Convert Decimal to Binary, Octal and Hexadecimal?"
   ]
  },
  {
   "cell_type": "code",
   "execution_count": 4,
   "metadata": {},
   "outputs": [
    {
     "name": "stdout",
     "output_type": "stream",
     "text": [
      "Enter a number:- 35\n",
      "\n",
      "\n",
      "The decimal value of 35 is: 35.00000\n",
      "35 in binary is: 0b100011\n",
      "35 in octal is: 0o43\n",
      "35 in hexadecimal is: 0x23\n"
     ]
    }
   ],
   "source": [
    "try:\n",
    "    num = int(input(\"Enter a number:- \"))\n",
    "    print(\"\\n\")\n",
    "    print(\"The decimal value of\", num, \"is: {:.5f}\".format(num))\n",
    "    print(num,\"in binary is:\",bin(num))\n",
    "    print(num,\"in octal is:\",oct(num))\n",
    "    print(num, \"in hexadecimal is:\",hex(num))\n",
    "except (ValueError,ZeroDivisionError,KeyError,ArithmeticError) as e:\n",
    "    print(\"There is an error:- \",e,\". Please sort it.\")"
   ]
  },
  {
   "cell_type": "markdown",
   "metadata": {},
   "source": [
    "# Q4: Write a Python Program To Find ASCII value of a character?"
   ]
  },
  {
   "cell_type": "code",
   "execution_count": 2,
   "metadata": {},
   "outputs": [
    {
     "name": "stdout",
     "output_type": "stream",
     "text": [
      "Enter a character: 4\n",
      "\tThe ASCII value of ' 4 ' is: 52 \n",
      "\n",
      "Enter a character: 5\n",
      "\tThe ASCII value of ' 5 ' is: 53 \n",
      "\n",
      "Enter a character: 6\n",
      "\tThe ASCII value of ' 6 ' is: 54 \n",
      "\n",
      "Enter a character: 7\n",
      "\tThe ASCII value of ' 7 ' is: 55 \n",
      "\n",
      "Enter a character: 3\n",
      "\tThe ASCII value of ' 3 ' is: 51 \n",
      "\n"
     ]
    }
   ],
   "source": [
    "i = 0 # looping for 5 times\n",
    "try:\n",
    "    while i < 5:\n",
    "        char = str(input(\"Enter a character: \"))\n",
    "        print(\"\\tThe ASCII value of '\",char,\"' is:\", ord(char),\"\\n\")\n",
    "        i+=1\n",
    "except (ValueError,ZeroDivisionError,KeyError,ArithmeticError) as e:\n",
    "    print(\"There is an error:- \",e,\". Please sort it.\")   "
   ]
  },
  {
   "cell_type": "markdown",
   "metadata": {},
   "source": [
    "# Q5: Write a Python Program to Make a Simple Calculator with 4 basic mathematical operations?"
   ]
  },
  {
   "cell_type": "code",
   "execution_count": 4,
   "metadata": {},
   "outputs": [
    {
     "name": "stdout",
     "output_type": "stream",
     "text": [
      "\n",
      "Select an operation:\n",
      "    1. Add\n",
      "    2. Subtract\n",
      "    3. Multiply\n",
      "    4. Divide\n",
      "\n",
      "Enter your choice based on the table shown below between (1/2/3/4): 1\n",
      "Enter first number: 235\n",
      "Enter second number: 234\n",
      "235.0 + 234.0 = 469.0\n"
     ]
    }
   ],
   "source": [
    "def add(x, y):\n",
    "    return x + y\n",
    "def subtract(x, y):\n",
    "    return x - y\n",
    "def multiply(x, y):\n",
    "    return x * y\n",
    "def divide(x, y):\n",
    "    return x / y\n",
    "print(\"\"\"\n",
    "Select an operation:\n",
    "    1. Add\n",
    "    2. Subtract\n",
    "    3. Multiply\n",
    "    4. Divide\n",
    "\"\"\")\n",
    "\n",
    "while True:\n",
    "    choice = input(\"Enter your choice based on the table shown below between (1/2/3/4): \")\n",
    "    if choice in ('1', '2', '3', '4'):\n",
    "        num1 = float(input(\"Enter first number: \"))\n",
    "        num2 = float(input(\"Enter second number: \"))\n",
    "        import math\n",
    "        if choice == '1':\n",
    "            print(num1, \"+\", num2, \"=\", add(num1, num2))\n",
    "        elif choice == '2':\n",
    "            print(num1, \"-\", num2, \"=\", subtract(num1, num2))\n",
    "        elif choice == '3':\n",
    "            print(num1, \"*\", num2, \"=\", multiply(num1, num2))\n",
    "        elif choice == '4':\n",
    "            print(num1, \"/\", num2, \"=\", divide(num1, num2))\n",
    "        break\n",
    "    else:\n",
    "        print(\"Invalid Input\")"
   ]
  },
  {
   "cell_type": "code",
   "execution_count": null,
   "metadata": {},
   "outputs": [],
   "source": []
  },
  {
   "cell_type": "code",
   "execution_count": null,
   "metadata": {},
   "outputs": [],
   "source": []
  },
  {
   "cell_type": "code",
   "execution_count": null,
   "metadata": {},
   "outputs": [],
   "source": []
  },
  {
   "cell_type": "code",
   "execution_count": null,
   "metadata": {},
   "outputs": [],
   "source": []
  }
 ],
 "metadata": {
  "kernelspec": {
   "display_name": "Python 3",
   "language": "python",
   "name": "python3"
  }
 },
 "nbformat": 4,
 "nbformat_minor": 4
}
