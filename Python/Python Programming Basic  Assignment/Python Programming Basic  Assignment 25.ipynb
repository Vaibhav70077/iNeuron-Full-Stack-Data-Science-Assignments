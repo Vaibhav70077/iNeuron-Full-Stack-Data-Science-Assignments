{
 "cells": [
  {
   "cell_type": "markdown",
   "metadata": {},
   "source": [
    "# Q1: Create a function that takes three integer arguments (a, b, c) and returns the amount of integers which are of equal value."
   ]
  },
  {
   "cell_type": "markdown",
   "metadata": {},
   "source": [
    "Ex:\n",
    "\n",
    "i. equal(3, 4, 3) ➞ 2\n",
    "\n",
    "ii. equal(1, 1, 1) ➞ 3\n",
    "\n",
    "iii. equal(3, 4, 1) ➞ 0\n",
    "\n",
    "Note: Your function must return 0, 2 or 3."
   ]
  },
  {
   "cell_type": "code",
   "execution_count": 3,
   "metadata": {},
   "outputs": [
    {
     "name": "stdout",
     "output_type": "stream",
     "text": [
      "The list takes three integer arguments and returns the amount of integers which are of equal values.It prints the following values for three possible outcomes:\n",
      "\t1. It returns '0' when none of the values are same.\n",
      "\t2. It returns '2' when atleast two of the values are same.\n",
      "\t3. It returns '3' when three of the values are same.\n",
      "Enter a number: 3\n",
      "Enter a number: 4\n",
      "Enter a number: 3\n",
      "OUTPUT: 2\n"
     ]
    }
   ],
   "source": [
    "def equal():\n",
    "    print(\"The list takes three integer arguments and returns the amount of integers which are of equal values.It prints the following values for three possible outcomes:\\n\\t1. It returns '0' when none of the values are same.\\n\\t2. It returns '2' when atleast two of the values are same.\\n\\t3. It returns '3' when three of the values are same.\")\n",
    "    a,b,c = [int(input(\"Enter a number: \")) for x in range(3)]\n",
    "    print(\"OUTPUT:\",end=\" \")\n",
    "    if a == b == c: print(\"3\")\n",
    "    elif a == b or a == c or b == c: print(\"2\")\n",
    "    else: print(\"0\")\n",
    "equal()"
   ]
  },
  {
   "cell_type": "markdown",
   "metadata": {},
   "source": [
    "# Q2: Write a function that converts a dictionary into a list of keys-values tuples."
   ]
  },
  {
   "cell_type": "markdown",
   "metadata": {},
   "source": [
    "Ex:\n",
    "\n",
    "dict_to_list({ \"D\": 1, \"B\": 2, \"C\": 3 }) ➞ [(\"B\", 2), (\"C\", 3), (\"D\", 1)]\n",
    "\n",
    "dict_to_list({ \"likes\": 2, \"dislikes\": 3, \"followers\": 10 }) ➞ [(\"dislikes\", 3), (\"followers\", 10), (\"likes\", 2)]\n",
    "\n",
    "Note: Return the elements in the list in alphabetical order."
   ]
  },
  {
   "cell_type": "code",
   "execution_count": 5,
   "metadata": {},
   "outputs": [
    {
     "name": "stdout",
     "output_type": "stream",
     "text": [
      "Enter the size of the dictionary: 3\n",
      "Enter a key: D\n",
      "Enter a value: 1\n",
      "Enter a key: B2\n",
      "Enter a value: 2\n",
      "Enter a key: C\n",
      "Enter a value: 3\n",
      "The dictionary is -  {'D': '1', 'B2': '2', 'C': '3'}\n",
      "The tuple converted into dictionary is -  [('D', '1'), ('B2', '2'), ('C', '3')]\n"
     ]
    }
   ],
   "source": [
    "def dict_to_list():\n",
    "    upper = int(input(\"Enter the size of the dictionary: \"))\n",
    "    dictionary = {}\n",
    "    for i in range(upper):\n",
    "        a = input(\"Enter a key: \")\n",
    "        b = input(\"Enter a value: \")\n",
    "        dictionary[a.title()] = b\n",
    "    print(\"The dictionary is - \",dictionary)\n",
    "    tuple_set = [(key,value) for key,value in dictionary.items()]\n",
    "    print(\"The tuple converted into dictionary is - \",tuple_set)\n",
    "dict_to_list()"
   ]
  },
  {
   "cell_type": "markdown",
   "metadata": {},
   "source": [
    "# Q3: Write a function that creates a dictionary with each (key, value) pair being the (lower case, upper case) versions of a letter, respectively."
   ]
  },
  {
   "cell_type": "markdown",
   "metadata": {},
   "source": [
    "Ex:\n",
    "\n",
    "i. mapping([\"p\", \"s\"]) ➞ { \"p\": \"P\", \"s\": \"S\" }\n",
    "\n",
    "ii. mapping([\"a\", \"b\", \"c\"]) ➞ { \"a\": \"A\", \"b\": \"B\", \"c\": \"C\" }\n",
    "\n",
    "iii. mapping([\"a\", \"v\", \"y\", \"z\"]) ➞ { \"a\": \"A\", \"v\": \"V\", \"y\": \"Y\", \"z\": \"Z\" }\n",
    "\n",
    "Note: All of the letters in the input list will always be lowercase."
   ]
  },
  {
   "cell_type": "code",
   "execution_count": 6,
   "metadata": {},
   "outputs": [
    {
     "name": "stdout",
     "output_type": "stream",
     "text": [
      "Enter the size of the dictionary: 2\n",
      "\tEnter a letter: p\n",
      "\tEnter a letter: s\n",
      "All the entries after all the changes and removing the repeated values (if any) are - ['p', 's']\n",
      "The dictionary is - {'P': 'p', 'S': 's'}\n"
     ]
    }
   ],
   "source": [
    "def mapping():\n",
    "    upper = int(input(\"Enter the size of the dictionary: \"))\n",
    "    list_entries = [str(input(\"\\tEnter a letter: \")).lower() for i in range(upper)]\n",
    "    unique_list = []\n",
    "    for repeat in list_entries:\n",
    "        if repeat not in unique_list:\n",
    "            unique_list.append(repeat)\n",
    "    print(\"All the entries after all the changes and removing the repeated values (if any) are -\",unique_list)\n",
    "    dictionary = {}\n",
    "    for i in unique_list: dictionary[i.upper()] = i\n",
    "    print(\"The dictionary is -\",dictionary)\n",
    "mapping()"
   ]
  },
  {
   "cell_type": "markdown",
   "metadata": {},
   "source": [
    "# Q4: Write a function, that replaces all vowels in a string with a specified vowel."
   ]
  },
  {
   "cell_type": "markdown",
   "metadata": {},
   "source": [
    "Ex:\n",
    "\n",
    "i. vow_replace(\"apples and bananas\", \"u\") ➞ \"upplus und bununus\"\n",
    "\n",
    "ii. vow_replace(\"cheese casserole\", \"o\") ➞ \"chooso cossorolo\"\n",
    "\n",
    "iii. vow_replace(\"stuffed jalapeno poppers\", \"e\") ➞ \"steffed jelepene peppers\"\n",
    "\n",
    "Note: All words will be lowercase. Y is not considered a vowel."
   ]
  },
  {
   "cell_type": "code",
   "execution_count": 7,
   "metadata": {},
   "outputs": [
    {
     "name": "stdout",
     "output_type": "stream",
     "text": [
      "Enter a string: apples and bananas\n",
      "Enter the word replacing all the vowels: u\n",
      "upplus und bununus\n"
     ]
    }
   ],
   "source": [
    "def vow_replace():\n",
    "    string = str(input(\"Enter a string: \"))\n",
    "    vowel = str(input(\"Enter the word replacing all the vowels: \"))\n",
    "    replaced_string = \"\"\n",
    "    for i in string:\n",
    "        if i in \"aeiou\":i = vowel\n",
    "        replaced_string+=i\n",
    "    print(replaced_string)\n",
    "vow_replace()"
   ]
  },
  {
   "cell_type": "markdown",
   "metadata": {},
   "source": [
    "# Q5: Create a function that takes a string as input and capitalizes a letter if its ASCII code is even and returns its lower case version if its ASCII code is odd."
   ]
  },
  {
   "cell_type": "markdown",
   "metadata": {},
   "source": [
    "Ex:\n",
    "\n",
    "i. ascii_capitalize(\"to be or not to be!\") ➞ \"To Be oR NoT To Be!\"\n",
    "\n",
    "ii. ascii_capitalize(\"THE LITTLE MERMAID\") ➞ \"THe LiTTLe meRmaiD\"\n",
    "\n",
    "iii. ascii_capitalize(\"Oh what a beautiful morning.\") ➞ \"oH wHaT a BeauTiFuL moRNiNg.\""
   ]
  },
  {
   "cell_type": "code",
   "execution_count": 8,
   "metadata": {},
   "outputs": [
    {
     "name": "stdout",
     "output_type": "stream",
     "text": [
      "Enter a string: to be or not to be\n",
      "The  string is: To Be oR NoT To Be\n"
     ]
    }
   ],
   "source": [
    "def ascii_capitalize():\n",
    "    string = str(input(\"Enter a string: \")).lower()\n",
    "    final_string = \"\"\n",
    "    for i in string:\n",
    "        if (ord(i))%2 == 0:\n",
    "            final_string+=i.upper()\n",
    "            continue\n",
    "        final_string+=i\n",
    "    print(\"The  string is:\",final_string)\n",
    "ascii_capitalize()"
   ]
  }
 ],
 "metadata": {
  "kernelspec": {
   "display_name": "Python 3",
   "language": "python",
   "name": "python3"
  },
  "language_info": {
   "codemirror_mode": {
    "name": "ipython",
    "version": 3
   },
   "file_extension": ".py",
   "mimetype": "text/x-python",
   "name": "python",
   "nbconvert_exporter": "python",
   "pygments_lexer": "ipython3",
   "version": "3.8.5"
  }
 },
 "nbformat": 4,
 "nbformat_minor": 4
}
