{
 "cells": [
  {
   "cell_type": "markdown",
   "metadata": {},
   "source": [
    "# Q1: Create a function that takes three parameters where:"
   ]
  },
  {
   "cell_type": "markdown",
   "metadata": {},
   "source": [
    "x is the start of the range (inclusive).\n",
    "\n",
    "y is the end of the range (inclusive).\n",
    "\n",
    "n is the divisor to be checked against.\n",
    "\n",
    "Return an ordered list with numbers in the range that are divisible by the third parameter n. Return an empty list if there are no numbers that are divisible by n. Examples list_operation(1, 10, 3) ➞ [3, 6, 9]\n",
    "\n",
    "list_operation(7, 9, 2) ➞ [8]\n",
    "\n",
    "list_operation(15, 20, 7) ➞ []"
   ]
  },
  {
   "cell_type": "code",
   "execution_count": 4,
   "metadata": {},
   "outputs": [
    {
     "name": "stdout",
     "output_type": "stream",
     "text": [
      "Enter a number: 1\n",
      "Enter another number: 10\n",
      "Enter a number to check the divisibility: 3\n",
      "The list is: [3, 6, 9]\n"
     ]
    }
   ],
   "source": [
    "def list_operation():\n",
    "    x = int(input(\"Enter a number: \"))\n",
    "    y = int(input(\"Enter another number: \"))\n",
    "    z = int(input(\"Enter a number to check the divisibility: \"))\n",
    "    divisible = []\n",
    "    for number in range(x,y): \n",
    "        if number%z == 0:\n",
    "            divisible.append(number)\n",
    "    print(\"The list is:\",divisible)\n",
    "list_operation()"
   ]
  },
  {
   "cell_type": "markdown",
   "metadata": {},
   "source": [
    "# Q2: Create a function that takes in two lists and returns True if the second list follows the first list by one element, and False otherwise. In other words, determine if the second list is the first list shifted to the right by 1."
   ]
  },
  {
   "cell_type": "markdown",
   "metadata": {},
   "source": [
    "Ex: i. simon_says([1, 2], [5, 1]) ➞ True\n",
    "\n",
    "ii. simon_says([1, 2], [5, 5]) ➞ False\n",
    "\n",
    "iii. simon_says([1, 2, 3, 4, 5], [0, 1, 2, 3, 4]) ➞ True\n",
    "\n",
    "iv. simon_says([1, 2, 3, 4, 5], [5, 5, 1, 2, 3]) ➞ False"
   ]
  },
  {
   "cell_type": "code",
   "execution_count": 10,
   "metadata": {},
   "outputs": [
    {
     "name": "stdout",
     "output_type": "stream",
     "text": [
      "Enter the range for the list: 2\n",
      "Enter the values for the first list:\n",
      "Enter a number: 1\n",
      "Enter a number: 2\n",
      "Enter the values for the second list:\n",
      "Enter a number: 5\n",
      "Enter a number: 5\n",
      "False\n",
      "False\n"
     ]
    }
   ],
   "source": [
    "def simon_says():\n",
    "    upper = int(input(\"Enter the range for the list: \"))\n",
    "    print(\"Enter the values for the first list:\")\n",
    "    first_list = [int(input(\"Enter a number: \")) for x in range(upper)]\n",
    "    print(\"Enter the values for the second list:\")\n",
    "    second_list =[int(input(\"Enter a number: \")) for x in range(upper)]\n",
    "    for first in first_list:\n",
    "        for second in second_list:\n",
    "            if first == second: \n",
    "                print(\"True\")\n",
    "                break\n",
    "            else: \n",
    "                print(\"False\")\n",
    "                break\n",
    "simon_says()"
   ]
  },
  {
   "cell_type": "markdown",
   "metadata": {},
   "source": [
    "# Q3: A group of friends have decided to start a secret society. The name will be the first letter of each of their names, sorted in alphabetical order."
   ]
  },
  {
   "cell_type": "markdown",
   "metadata": {},
   "source": [
    "Create a function that takes in a list of names and returns the name of the secret society.\n",
    "\n",
    "Ex:\n",
    "\n",
    "i. society_name([\"Adam\", \"Sarah\", \"Malcolm\"]) ➞ \"AMS\"\n",
    "\n",
    "ii. society_name([\"Harry\", \"Newt\", \"Luna\", \"Cho\"]) ➞ \"CHLN\"\n",
    "\n",
    "iii. society_name([\"Phoebe\", \"Chandler\", \"Rachel\", \"Ross\", \"Monica\", \"Joey\"])"
   ]
  },
  {
   "cell_type": "code",
   "execution_count": 11,
   "metadata": {},
   "outputs": [
    {
     "name": "stdout",
     "output_type": "stream",
     "text": [
      "Enter the range of the list: 3\n",
      "Enter a name: adam\n",
      "Enter a name: sarah\n",
      "Enter a name: malcolm\n",
      "The first letters of each word sorted alphabetically is - AMS\n"
     ]
    }
   ],
   "source": [
    "def society_name():\n",
    "    upper = int(input(\"Enter the range of the list: \"))\n",
    "    names_list = [str(input(\"Enter a name: \")) for i in range(upper)]\n",
    "    saved_list = []\n",
    "    for i in names_list:\n",
    "        saved_list.append(i[0])\n",
    "    word = \"\"\n",
    "    for i in saved_list:\n",
    "        word+=i\n",
    "    word = \"\".join(sorted(word)).upper()\n",
    "    print(\"The first letters of each word sorted alphabetically is -\",(word))\n",
    "society_name()"
   ]
  },
  {
   "cell_type": "markdown",
   "metadata": {},
   "source": [
    "# Q4: An isogram is a word that has no duplicate letters. Create a function that takes a string and returns either True or False depending on whether or not it's an \"isogram\"."
   ]
  },
  {
   "cell_type": "markdown",
   "metadata": {},
   "source": [
    "Ex:\n",
    "\n",
    "i. is_isogram(\"Algorism\") ➞ True\n",
    "\n",
    "ii. is_isogram(\"PasSword\") ➞ False\n",
    "\n",
    "iii. is_isogram(\"Consecutive\") ➞ False\n",
    "\n",
    "Notes:\n",
    "\n",
    "1. Ignore letter case (should not be case sensitive).\n",
    "\n",
    "2. All test cases contain valid one word strings.\n",
    "\n"
   ]
  },
  {
   "cell_type": "code",
   "execution_count": 13,
   "metadata": {},
   "outputs": [
    {
     "name": "stdout",
     "output_type": "stream",
     "text": [
      "Enter a word:Algorism\n"
     ]
    },
    {
     "data": {
      "text/plain": [
       "('algorism', True)"
      ]
     },
     "execution_count": 13,
     "metadata": {},
     "output_type": "execute_result"
    }
   ],
   "source": [
    "def is_isogram(word):\n",
    "    if type(word) != str:\n",
    "        raise TypeError('Argument should be a string')\n",
    "\n",
    "    elif word == \"\":\n",
    "        return (word, False)\n",
    "    else:\n",
    "        word = word.lower()\n",
    "        for char in word:\n",
    "            if word.count(char) > 1:\n",
    "                return (word, False)\n",
    "            else:\n",
    "                return (word, True) \n",
    "is_isogram(str(input(\"Enter a word:\")))"
   ]
  },
  {
   "cell_type": "markdown",
   "metadata": {},
   "source": [
    "# Q5: Create a function that takes a string and returns True or False, depending on whether the characters are in order or not."
   ]
  },
  {
   "cell_type": "markdown",
   "metadata": {},
   "source": [
    "Ex:\n",
    "\n",
    "i. is_in_order(\"abc\") ➞ True\n",
    "\n",
    "ii. is_in_order(\"edabit\") ➞ False\n",
    "\n",
    "iii. is_in_order(\"123\") ➞ True\n",
    "\n",
    "iv. is_in_order(\"xyzz\") ➞ True\n",
    "\n",
    "Notes:\n",
    "\n",
    "You don't have to handle empty strings."
   ]
  },
  {
   "cell_type": "code",
   "execution_count": 12,
   "metadata": {},
   "outputs": [
    {
     "name": "stdout",
     "output_type": "stream",
     "text": [
      "Yes, it is in alphabetical order.\n"
     ]
    },
    {
     "data": {
      "text/plain": [
       "True"
      ]
     },
     "execution_count": 12,
     "metadata": {},
     "output_type": "execute_result"
    }
   ],
   "source": [
    "def  is_in_order(s):\n",
    "    n = len(s)\n",
    "    c = [s[i] for i in range(len(s))]\n",
    "    c.sort(reverse = False)\n",
    "    for i in range(n):\n",
    "        if (c[i] != s[i]):\n",
    "            return False\n",
    "    return True\n",
    "if __name__ == '__main__':\n",
    "    s = \"aabbbcc\"\n",
    "    if ( is_in_order(s)):\n",
    "        print(\"Yes, it is in alphabetical order.\")\n",
    "    else:\n",
    "        print(\"No, it is not in alphabetical order.\")\n",
    "is_in_order(\"Hello\")"
   ]
  }
 ],
 "metadata": {
  "kernelspec": {
   "display_name": "Python 3",
   "language": "python",
   "name": "python3"
  },
  "language_info": {
   "codemirror_mode": {
    "name": "ipython",
    "version": 3
   },
   "file_extension": ".py",
   "mimetype": "text/x-python",
   "name": "python",
   "nbconvert_exporter": "python",
   "pygments_lexer": "ipython3",
   "version": "3.8.5"
  }
 },
 "nbformat": 4,
 "nbformat_minor": 4
}
