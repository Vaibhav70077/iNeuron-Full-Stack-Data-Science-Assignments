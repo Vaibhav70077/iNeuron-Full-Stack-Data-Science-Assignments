{
 "cells": [
  {
   "cell_type": "markdown",
   "metadata": {},
   "source": [
    "# Q1: Write a program that calculates and prints the value according to the given formula:"
   ]
  },
  {
   "cell_type": "markdown",
   "metadata": {},
   "source": [
    "Q = Square root of [ ( 2 C D) / H ]\n",
    "\n",
    "where C is 50, H is 30 & D is the variable whose values should be input to your program in a comma-separated sequence."
   ]
  },
  {
   "cell_type": "code",
   "execution_count": 3,
   "metadata": {},
   "outputs": [
    {
     "name": "stdout",
     "output_type": "stream",
     "text": [
      "Enter values with each comma seperating it: 100,150,180\n",
      "18,22,24,"
     ]
    }
   ],
   "source": [
    "import math\n",
    "C,H = 50,30\n",
    "while True:\n",
    "    A = [int(x) for x in input(\"Enter values with each comma seperating it: \").strip().split(',')]\n",
    "    if len(A) == 3:\n",
    "        break\n",
    "    else:\n",
    "        print(\"Please enter three values:\")\n",
    "for i in range(3):\n",
    "    D = A[i]\n",
    "    Q = math.sqrt((2*C*D)/H) # using the square root function for the calculations\n",
    "    print(math.trunc(Q),end=\",\") # using trunc function to remove the decimal part"
   ]
  },
  {
   "cell_type": "markdown",
   "metadata": {},
   "source": [
    "# Q2: Write a program which takes 2 digits, X,Y as input and generates a 2-dimensional array. The element value in the i-th row and j-th column of the array should be i*j."
   ]
  },
  {
   "cell_type": "code",
   "execution_count": 4,
   "metadata": {},
   "outputs": [
    {
     "name": "stdout",
     "output_type": "stream",
     "text": [
      "Enter the number of rows: 3\n",
      "Enter the number of columns: 5\n",
      "\n",
      "Enter indexes for the first matrix:\n",
      "[[0, 0, 0, 0, 0], [0, 1, 2, 3, 4], [0, 2, 4, 6, 8]]\n"
     ]
    }
   ],
   "source": [
    "X = int(input(\"Enter the number of rows: \"))\n",
    "Y = int(input(\"Enter the number of columns: \"))\n",
    "print(\"\\nEnter indexes for the first matrix:\")\n",
    "matrix = [[i*j for i in range(Y)]for j in range(X)]\n",
    "print(matrix)"
   ]
  },
  {
   "cell_type": "markdown",
   "metadata": {},
   "source": [
    "# Q3: Write a program that accepts a comma separated sequence of words as input and prints the words in a comma-separated sequence after sorting them alphabetically."
   ]
  },
  {
   "cell_type": "code",
   "execution_count": 5,
   "metadata": {},
   "outputs": [
    {
     "name": "stdout",
     "output_type": "stream",
     "text": [
      "Enter words with each comma seperating it: without,hello,bag,world\n",
      "\n",
      "Words in alphabetical order:\n",
      "bag,hello,without,world,"
     ]
    }
   ],
   "source": [
    "alphabet = [x for x in input(\"Enter words with each comma seperating it: \").strip().split(',')]\n",
    "for i in range(len(alphabet)): alphabet.sort()\n",
    "print(\"\\nWords in alphabetical order:\")\n",
    "for i in range(len(alphabet)): print(alphabet[i],end=\",\")"
   ]
  },
  {
   "cell_type": "markdown",
   "metadata": {},
   "source": [
    "# Q4: Write a program that accepts a sequence of whitespace separated words as input and prints the words after removing all duplicate words and sorting them alphanumerically."
   ]
  },
  {
   "cell_type": "code",
   "execution_count": 6,
   "metadata": {},
   "outputs": [
    {
     "name": "stdout",
     "output_type": "stream",
     "text": [
      "Enter a sentence: hello world and practice makes perfect and hello world again\n",
      "\n",
      "Words left after removing all duplicate words and sorting them alphanumerically: again and hello makes perfect practice world\n"
     ]
    }
   ],
   "source": [
    "sen_spli = str(input(\"Enter a sentence: \")).split(' ')\n",
    "l = []\n",
    "for i in sen_spli:\n",
    "    if i not in l: l.append(i)\n",
    "    else: continue\n",
    "l.sort()\n",
    "print(\"\\nWords left after removing all duplicate words and sorting them alphanumerically:\",(' ').join(l))"
   ]
  },
  {
   "cell_type": "markdown",
   "metadata": {},
   "source": [
    "# Q5: Write a program that accepts a sentence and calculate the number of letters and digits."
   ]
  },
  {
   "cell_type": "code",
   "execution_count": 7,
   "metadata": {},
   "outputs": [
    {
     "name": "stdout",
     "output_type": "stream",
     "text": [
      "Enter an alphanumerical sentence: hello world! 123\n",
      "\n",
      "Total digits in the sentence: 3\n",
      "Total words in the sentence: 10\n"
     ]
    }
   ],
   "source": [
    "sentence = input(\"Enter an alphanumerical sentence: \").lower()\n",
    "digits_count = 0\n",
    "words_count = 0\n",
    "for i in sentence:\n",
    "    if i in 'abcdefghijklmnopqrstuvwxyz':words_count+=1\n",
    "    elif i in '1234567890' : digits_count+=1\n",
    "print(\"\\nTotal digits in the sentence:\",digits_count)\n",
    "print(\"Total words in the sentence:\",words_count)"
   ]
  },
  {
   "cell_type": "markdown",
   "metadata": {},
   "source": [
    "# Q6: A website requires the users to input username and password to register. Write a program to check the validity of password input by users."
   ]
  },
  {
   "cell_type": "markdown",
   "metadata": {},
   "source": [
    "Following are the criteria for checking the password:\n",
    "\n",
    "1. At least 1 letter between [a-z]\n",
    "\n",
    "2. At least 1 number between [0-9]\n",
    "\n",
    "1. At least 1 letter between [A-Z]\n",
    "\n",
    "3. At least 1 character from [$#@]\n",
    "\n",
    "4. Minimum length of transaction password: 6\n",
    "\n",
    "5. Maximum length of transaction password: 12\n"
   ]
  },
  {
   "cell_type": "markdown",
   "metadata": {},
   "source": [
    "Your program should accept a sequence of comma separated passwords and will check them according to the above criteria. Passwords that match the criteria are to be printed, each separated by a comma."
   ]
  },
  {
   "cell_type": "code",
   "execution_count": 8,
   "metadata": {},
   "outputs": [
    {
     "name": "stdout",
     "output_type": "stream",
     "text": [
      "This will check the passwords for the website with the following conditions:\n",
      "\t1. At least 1 letter between [a-z]\n",
      "\t2. At least 1 number between [0-9]\n",
      "\t3. At least 1 letter between [A-Z]\n",
      "\t4. At least 1 character between $ # or @\n",
      "\t5. Minimum length of transaction password: 6\n",
      "\t6. Maximum length of transaction password: 12\n",
      "Type in passwords to check: ABd1234@1,a F1#,2w3E*,2We3345\n",
      "Acceptable Password is: ABd1234@1\n"
     ]
    }
   ],
   "source": [
    "import re\n",
    "print(\"This will check the passwords for the website with the following conditions:\\n\\t1. At least 1 letter between [a-z]\\n\\t2. At least 1 number between [0-9]\\n\\t3. At least 1 letter between [A-Z]\\n\\t4. At least 1 character between $ # or @\\n\\t5. Minimum length of transaction password: 6\\n\\t6. Maximum length of transaction password: 12\")\n",
    "passwords = input(\"Type in passwords to check: \").strip().split(\",\")\n",
    "accepted_passwords = []\n",
    "for i in passwords:\n",
    "    if len(i) < 6 or len(i) > 12:\n",
    "        continue\n",
    "    elif not re.search(\"([a-z])+\", i):\n",
    "        continue\n",
    "    elif not re.search(\"([A-Z])+\", i):\n",
    "        continue\n",
    "    elif not re.search(\"([0-9])+\", i):\n",
    "        continue\n",
    "    elif not re.search(\"([@$#])+\", i):\n",
    "        continue\n",
    "    else:\n",
    "        accepted_passwords.append(i)\n",
    "if len(accepted_passwords) == 1:\n",
    "    print(\"Acceptable Password is:\",(\" \").join(accepted_passwords))\n",
    "else:\n",
    "    print(\"All acceptable passwords are:\",(\" \").join(accepted_passwords))"
   ]
  }
 ],
 "metadata": {
  "kernelspec": {
   "display_name": "Python 3",
   "language": "python",
   "name": "python3"
  },
  "language_info": {
   "codemirror_mode": {
    "name": "ipython",
    "version": 3
   },
   "file_extension": ".py",
   "mimetype": "text/x-python",
   "name": "python",
   "nbconvert_exporter": "python",
   "pygments_lexer": "ipython3",
   "version": "3.8.5"
  }
 },
 "nbformat": 4,
 "nbformat_minor": 4
}
