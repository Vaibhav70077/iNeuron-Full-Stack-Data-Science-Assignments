{
 "cells": [
  {
   "cell_type": "markdown",
   "metadata": {},
   "source": [
    "# Q1: Create a function that takes a string and returns a string in which each character is repeated once."
   ]
  },
  {
   "cell_type": "markdown",
   "metadata": {},
   "source": [
    "Ex:\n",
    "\n",
    "i. double_char(\"String\") ➞ \"SSttrriinngg\"\n",
    "\n",
    "ii. double_char(\"Hello World!\") ➞ \"HHeelllloo WWoorrlldd!!\"\n",
    "\n",
    "iii. doublechar(\"1234! \") ➞ \"11223344!!__ \""
   ]
  },
  {
   "cell_type": "code",
   "execution_count": 1,
   "metadata": {},
   "outputs": [
    {
     "name": "stdout",
     "output_type": "stream",
     "text": [
      "Enter a String: Hello World\n",
      "HHeelllloo WWoorrlldd\n"
     ]
    }
   ],
   "source": [
    "string = str(input(\"Enter a String: \"))\n",
    "strimg = str(\"\")\n",
    "for i in string:\n",
    "    if i == \" \":\n",
    "        strimg += i\n",
    "    else:\n",
    "        strimg+=i*2\n",
    "print(strimg)"
   ]
  },
  {
   "cell_type": "markdown",
   "metadata": {},
   "source": [
    "# Q2: Create a function that reverses a boolean value and returns the string \"boolean expected\" if another variable type is given."
   ]
  },
  {
   "cell_type": "markdown",
   "metadata": {},
   "source": [
    "Ex:\n",
    "\n",
    "i. reverse(True) ➞ False\n",
    "\n",
    "ii. reverse(False) ➞ True\n",
    "\n",
    "iii. reverse(0) ➞ \"boolean expected\"\n",
    "\n",
    "iv. reverse(None) ➞ \"boolean expected\""
   ]
  },
  {
   "cell_type": "code",
   "execution_count": 5,
   "metadata": {},
   "outputs": [
    {
     "name": "stdout",
     "output_type": "stream",
     "text": [
      "Enter a boolean value : False\n",
      "The reversed boolean will be True\n"
     ]
    }
   ],
   "source": [
    "reverse = input(\"Enter a boolean value : \")\n",
    "if reverse == \"True\":\n",
    "    print(\"The reversed boolean will be False\")\n",
    "elif reverse == \"False\":\n",
    "    print(\"The reversed boolean will be True\")\n",
    "else:\n",
    "    print(\"boolean expected\")"
   ]
  },
  {
   "cell_type": "markdown",
   "metadata": {},
   "source": [
    "# Q3: Create a function that returns the thickness (in meters) of a piece of paper after folding it n number of times. The paper starts off with a thickness of 0.5mm.x"
   ]
  },
  {
   "cell_type": "markdown",
   "metadata": {},
   "source": [
    "Ex:   \n",
    "i. num_layers(1) ➞ \"0.001m\" (Paper folded once is 1mm (equal to 0.001m))\n",
    "\n",
    "ii. num_layers(4) ➞ \"0.008m\" (Paper folded 4 times is 8mm (equal to 0.008m))\n",
    "\n",
    "iii. num_layers(21) ➞ \"1048.576m\" (Paper folded 21 times is 1048576mm (equal to 1048.576m))"
   ]
  },
  {
   "cell_type": "code",
   "execution_count": 6,
   "metadata": {},
   "outputs": [
    {
     "name": "stdout",
     "output_type": "stream",
     "text": [
      "How many times would you like the papaer to ne folded: 21\n",
      "1048576.0 mm. Paper folded 21 times is 1048576.0 m. (equal to 1048.576 m)\n"
     ]
    }
   ],
   "source": [
    "import math\n",
    "num_layers = int(input(\"How many times would you like the papaer to ne folded: \"))\n",
    "math_pow = math.pow(2,num_layers-1)\n",
    "print(math_pow,\"mm. Paper folded\", num_layers ,\"times is\", math_pow ,\"m. (equal to\", math_pow/1000 ,\"m)\")"
   ]
  },
  {
   "cell_type": "markdown",
   "metadata": {},
   "source": [
    "# Q4: Create a function that takes a single string as argument and returns an ordered list containing the indices of all capital letters in the string"
   ]
  },
  {
   "cell_type": "markdown",
   "metadata": {},
   "source": [
    "Ex:\n",
    "\n",
    "i. index_of_caps(\"eDaBiT\") ➞ [1, 3, 5]\n",
    "\n",
    "ii. index_of_caps(\"eQuINoX\") ➞ [1, 3, 4, 6]\n",
    "\n",
    "iii. index_of_caps(\"determine\") ➞ []\n",
    "\n",
    "iv. index_of_caps(\"STRIKE\") ➞ [0, 1, 2, 3, 4, 5]\n",
    "\n",
    "v. index_of_caps(\"sUn\") ➞ [1]"
   ]
  },
  {
   "cell_type": "code",
   "execution_count": 7,
   "metadata": {},
   "outputs": [
    {
     "name": "stdout",
     "output_type": "stream",
     "text": [
      "Enter a word with both cases, upper and lower: eQuINoX\n",
      "[1, 3, 4, 6]\n"
     ]
    }
   ],
   "source": [
    "index_of_caps = str(input(\"Enter a word with both cases, upper and lower: \"))\n",
    "list_caps = []\n",
    "for case in index_of_caps:\n",
    "    if case.isupper() == True:    \n",
    "        list_caps.append(index_of_caps.index(case))\n",
    "    else: continue\n",
    "print(list_caps)"
   ]
  },
  {
   "cell_type": "markdown",
   "metadata": {},
   "source": [
    "# Q5: Using list comprehensions, create a function that finds all even numbers from 1 to the given number."
   ]
  },
  {
   "cell_type": "markdown",
   "metadata": {},
   "source": [
    "Ex:\n",
    "\n",
    "i. find_even_nums(8) ➞ [2, 4, 6, 8]\n",
    "\n",
    "ii. find_even_nums(4) ➞ [2, 4]\n",
    "\n",
    "iii. find_even_nums(2) ➞ [2]"
   ]
  },
  {
   "cell_type": "code",
   "execution_count": 11,
   "metadata": {},
   "outputs": [
    {
     "name": "stdout",
     "output_type": "stream",
     "text": [
      "Enter a range for the output: 8\n",
      "[2, 4, 6, 8]\n"
     ]
    }
   ],
   "source": [
    "find_even_nums = int(input(\"Enter a range for the output: \"))\n",
    "list_even_numbers = [x for x in range(1,find_even_nums+1) if x%2 == 0]\n",
    "print(list_even_numbers)"
   ]
  }
 ],
 "metadata": {
  "kernelspec": {
   "display_name": "Python 3",
   "language": "python",
   "name": "python3"
  },
  "language_info": {
   "codemirror_mode": {
    "name": "ipython",
    "version": 3
   },
   "file_extension": ".py",
   "mimetype": "text/x-python",
   "name": "python",
   "nbconvert_exporter": "python",
   "pygments_lexer": "ipython3",
   "version": "3.8.5"
  }
 },
 "nbformat": 4,
 "nbformat_minor": 4
}
