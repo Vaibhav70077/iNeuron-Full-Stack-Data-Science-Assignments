{
 "cells": [
  {
   "cell_type": "markdown",
   "metadata": {},
   "source": [
    "# Q1: Define a class with a generator which can iterate the numbers, which are divisible by 7, between a given range 0 and n."
   ]
  },
  {
   "cell_type": "code",
   "execution_count": 5,
   "metadata": {},
   "outputs": [
    {
     "name": "stdout",
     "output_type": "stream",
     "text": [
      "Enter the upper value for a range to iterate all numbers divisible by 7: 9\n",
      "[0, 7]\n",
      "\n",
      "1 . Value: 0 - True\n",
      "2 . Value: 1 - False\n",
      "3 . Value: 2 - False\n",
      "4 . Value: 3 - False\n",
      "5 . Value: 4 - False\n",
      "6 . Value: 5 - False\n",
      "7 . Value: 6 - False\n",
      "8 . Value: 7 - True\n",
      "9 . Value: 8 - False\n"
     ]
    }
   ],
   "source": [
    "n = int(input(\"Enter the upper value for a range to iterate all numbers divisible by 7: \"))\n",
    "division = [i for i in range(0, n) if (i % 7 == 0)]\n",
    "print(division)\n",
    "print(\"\")\n",
    "def divChecker(n):\n",
    "    for i in range(n):\n",
    "        if i % 7 == 0:\n",
    "            value = True\n",
    "        else:\n",
    "            value = False\n",
    "        print(i+1,\". Value:\",i,\"-\", value)\n",
    "divChecker(n)"
   ]
  },
  {
   "cell_type": "markdown",
   "metadata": {},
   "source": [
    "# Q2: Write a program to compute the frequency of the words from the input. The output should output after sorting the key alphanumerically. \n"
   ]
  },
  {
   "cell_type": "code",
   "execution_count": 6,
   "metadata": {},
   "outputs": [
    {
     "name": "stdout",
     "output_type": "stream",
     "text": [
      "Enter a sentence: New to Python or choosing between Python 2 and Python 3? Read Python 2 or Python 3.\n",
      "Frequency of New - 1\n",
      "Frequency of to - 1\n",
      "Frequency of Python - 5\n",
      "Frequency of or - 2\n",
      "Frequency of choosing - 1\n",
      "Frequency of between - 1\n",
      "Frequency of 2 - 2\n",
      "Frequency of and - 1\n",
      "Frequency of 3? - 1\n",
      "Frequency of Read - 1\n",
      "Frequency of 3. - 1\n"
     ]
    }
   ],
   "source": [
    "def freq(sentence):\n",
    "    sentence = sentence.split()         \n",
    "    str2 = []\n",
    "    for i in sentence:             \n",
    "        if i not in str2:\n",
    "            str2.append(i) \n",
    "    for i in range(0, len(str2)):\n",
    "        print('Frequency of', str2[i], '-', sentence.count(str2[i]))      \n",
    "def main():\n",
    "    sentence = str(input(\"Enter a sentence: \"))\n",
    "    freq(sentence)                    \n",
    "if __name__==\"__main__\":\n",
    "    main()     "
   ]
  },
  {
   "cell_type": "markdown",
   "metadata": {},
   "source": [
    "# Q3: Define a class Person and its two child classes: Male and Female. All classes have a method \"getGender\" which can print \"Male\" for Male class and \"Female\" for Female class."
   ]
  },
  {
   "cell_type": "code",
   "execution_count": 8,
   "metadata": {},
   "outputs": [],
   "source": [
    "class Person(Male,Female):\n",
    "    class Male:\n",
    "        def __init__ (self,male):\n",
    "            self.male = male\n",
    "        def getGender(self):\n",
    "            print(self.male+\"'s gender is Male\")\n",
    "    class Female:\n",
    "        def __init__ (self,female):\n",
    "            self.female = female\n",
    "        def getGender(self):\n",
    "            for i in self.female:\n",
    "                print(self.female[i]+\"'s gender is Female\")\n",
    "m1 = Male(\"John\")\n",
    "f1 = Female(\"Alexendra\")\n",
    "m1.getGender()\n",
    "f1.getGender()"
   ]
  },
  {
   "cell_type": "markdown",
   "metadata": {},
   "source": [
    "# Q4: Please write a program to generate all sentences where subject is in [\"I\", \"You\"] and verb is in [\"Play\", \"Love\"] and the object is in [\"Hockey\",\"Football\"].\n",
    "A4:"
   ]
  },
  {
   "cell_type": "code",
   "execution_count": 9,
   "metadata": {},
   "outputs": [
    {
     "name": "stdout",
     "output_type": "stream",
     "text": [
      "All the sentences are:-\n",
      "\n",
      "1 - I Play Hockey\n",
      "2 - I Play Football\n",
      "3 - I Love Hockey\n",
      "4 - I Love Football\n",
      "5 - You Play Hockey\n",
      "6 - You Play Football\n",
      "7 - You Love Hockey\n",
      "8 - You Love Football\n"
     ]
    }
   ],
   "source": [
    "two_subject=[\"I\", \"You\"]\n",
    "two_verb=[\"Play\", \"Love\"]\n",
    "two_object=[\"Hockey\",\"Football\"]\n",
    "print(\"All the sentences are:-\\n\")\n",
    "i=1\n",
    "for sub in two_subject:\n",
    "    for verb in two_verb:\n",
    "        for obj in two_object:\n",
    "            print(i,\"-\",sub,verb,obj)\n",
    "            i+=1"
   ]
  },
  {
   "cell_type": "markdown",
   "metadata": {},
   "source": [
    "# Q5: Please write a program to compress and decompress the string \"hello world!hello world!hello world!hello world!\"."
   ]
  },
  {
   "cell_type": "code",
   "execution_count": 12,
   "metadata": {},
   "outputs": [],
   "source": [
    "import zlib\n",
    "s = 'hello world!hello world!hello world!hello world!'.encode()\n",
    "print(\"Compressed String:\",zlib.compress(s),'\\n')\n",
    "print(\"Decompressed String: \",zlib.decompress(t))"
   ]
  },
  {
   "cell_type": "markdown",
   "metadata": {},
   "source": [
    "# Q6: Please write a binary search function which searches an item in a sorted list. The function should return the index of element to be searched in the list."
   ]
  },
  {
   "cell_type": "code",
   "execution_count": 13,
   "metadata": {},
   "outputs": [
    {
     "name": "stdout",
     "output_type": "stream",
     "text": [
      "The list is:  [12, 24, 32, 39, 45, 50, 54, 59, 61, 67, 69, 71, 78, 83, 85] \n",
      "\n",
      "Enter a number to be searched in the list: 67\n",
      "\n",
      "Element is present at index 9\n"
     ]
    }
   ],
   "source": [
    "# Iterative Binary Search Function method Python Implementation  \n",
    "# It returns index of n in given list1 if present, else returns -1   \n",
    "def binary_search(list1, n):  \n",
    "    low = 0  \n",
    "    high = len(list1) - 1  \n",
    "    mid = 0  \n",
    "    while low <= high:    \n",
    "        mid = (high + low) // 2  \n",
    "        if list1[mid] < n:  \n",
    "            low = mid + 1  \n",
    "        elif list1[mid] > n:  \n",
    "            high = mid - 1  \n",
    "        else:  \n",
    "            return mid  \n",
    "    return -1  \n",
    "list1 = [12,24,32,39,45,50,54,59,61,67,69,71,78,83,85]  \n",
    "print(\"The list is: \",list1,'\\n')\n",
    "n = int(input(\"Enter a number to be searched in the list: \"))  \n",
    "print(\"\")\n",
    "result = binary_search(list1, n)  \n",
    "if result != -1:  \n",
    "    print(\"Element is present at index\",result)\n",
    "else:  \n",
    "    print(n,\"is not present in the list\")  "
   ]
  }
 ],
 "metadata": {
  "kernelspec": {
   "display_name": "Python 3",
   "language": "python",
   "name": "python3"
  },
  "language_info": {
   "codemirror_mode": {
    "name": "ipython",
    "version": 3
   },
   "file_extension": ".py",
   "mimetype": "text/x-python",
   "name": "python",
   "nbconvert_exporter": "python",
   "pygments_lexer": "ipython3",
   "version": "3.8.5"
  }
 },
 "nbformat": 4,
 "nbformat_minor": 4
}
