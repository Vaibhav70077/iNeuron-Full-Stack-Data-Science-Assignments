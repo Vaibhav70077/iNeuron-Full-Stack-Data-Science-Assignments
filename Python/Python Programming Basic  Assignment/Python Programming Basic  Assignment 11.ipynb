{
 "cells": [
  {
   "cell_type": "markdown",
   "metadata": {},
   "source": [
    "# Q1: Write a Python program to find words which are greater than given length k?"
   ]
  },
  {
   "cell_type": "code",
   "execution_count": 2,
   "metadata": {},
   "outputs": [
    {
     "name": "stdout",
     "output_type": "stream",
     "text": [
      "Enter a string:- trjyfjrt\n",
      "\n",
      "The string is:-\n",
      " trjyfjrt\n",
      "\n",
      "Enter the length:- 8\n",
      "Words with count 8 or more are:-\n",
      "\n",
      "[]\n"
     ]
    }
   ],
   "source": [
    "try:\n",
    "    string = str(input(\"Enter a string:- \"))\n",
    "    print(\"\\nThe string is:-\\n\",string)\n",
    "    length = int(input(\"\\nEnter the length:- \"))\n",
    "    print(\"Words with count\",length,\"or more are:-\\n\")\n",
    "    print([ i for i in string.split() if len(i) > length ])\n",
    "except (AttributeError,NameError) as e:\n",
    "    print(\"Error is: \",e)"
   ]
  },
  {
   "cell_type": "markdown",
   "metadata": {},
   "source": [
    "# Q2: Write a Python program for removing i-th character from a string?"
   ]
  },
  {
   "cell_type": "code",
   "execution_count": 4,
   "metadata": {},
   "outputs": [
    {
     "name": "stdout",
     "output_type": "stream",
     "text": [
      "Enter a string:- vaibhav  gupta\n",
      "The string is:- vaibhav  gupta\n",
      "Enter the i-th space to remove the character from:- 7\n",
      "String after removing the character from place 7  is:-  vaibhav gupta\n"
     ]
    }
   ],
   "source": [
    "try:\n",
    "    string = str(input(\"Enter a string:- \"))\n",
    "    print(\"The string is:-\",string)\n",
    "    ith_space = int(input(\"Enter the i-th space to remove the character from:- \"))\n",
    "    new_string = \" \"\n",
    "    for i in range(len(string)):\n",
    "        if i != ith_space:\n",
    "            new_string += string[i]\n",
    "    print(\"String after removing the character from place\",ith_space,\" is:-\",new_string)\n",
    "except (AttributeError,NameError) as e:\n",
    "    print(\"Error is: \",e)"
   ]
  },
  {
   "cell_type": "markdown",
   "metadata": {},
   "source": [
    "# Q3: Write a Python program to split and join a string?"
   ]
  },
  {
   "cell_type": "code",
   "execution_count": 6,
   "metadata": {},
   "outputs": [
    {
     "name": "stdout",
     "output_type": "stream",
     "text": [
      "Enter a string:- I am stuydying in iNeuron\n",
      "Enter another string:- I am learning full stack\n",
      "\n",
      "The first string is:- I am stuydying in iNeuron\n",
      "The second string is:- I am learning full stack\n",
      "\n",
      "The combined string is:- I am stuydying in iNeuron I am learning full stack\n",
      "Press:\n",
      "\t 1 to choose the first string \n",
      "\t 2 to choose the second string:\n",
      "2\n",
      "Enter the character you want to split the string from: i\n",
      "String after split is:- ['I am learn', 'ng full stack']\n"
     ]
    }
   ],
   "source": [
    "try:\n",
    "    string_one = str(input(\"Enter a string:- \"))\n",
    "    string_two = str(input(\"Enter another string:- \"))\n",
    "    print(\"\\nThe first string is:-\",string_one)\n",
    "    print(\"The second string is:-\",string_two)\n",
    "    string_join = string_one+\" \"+string_two\n",
    "    print(\"\\nThe combined string is:-\",string_join)\n",
    "    while True:\n",
    "        choice = int(input(\"Press:\\n\\t 1 to choose the first string \\n\\t 2 to choose the second string:\\n\"))   \n",
    "        if choice == 1:\n",
    "            entry = str(input(\"Enter the character you want to split the string from: \"))\n",
    "            string_split = string_one.split(entry)\n",
    "            print(\"String after split is:-\",string_split)\n",
    "            break\n",
    "        elif choice == 2:\n",
    "            entry = str(input(\"Enter the character you want to split the string from: \"))\n",
    "            string_split = string_two.split(entry)\n",
    "            print(\"String after split is:-\",string_split)\n",
    "            break\n",
    "        else:\n",
    "            print(\"Wrong input. Try again!\")\n",
    "except (AttributeError,NameError) as e:\n",
    "    print(\"Error is: \",e)"
   ]
  },
  {
   "cell_type": "markdown",
   "metadata": {},
   "source": [
    "# Q4: Write a Python to check if a given string is binary string or not?"
   ]
  },
  {
   "cell_type": "code",
   "execution_count": 7,
   "metadata": {},
   "outputs": [
    {
     "name": "stdout",
     "output_type": "stream",
     "text": [
      "Enter a binary string: rhythm\n",
      "rhythm is not a binary string.\n"
     ]
    }
   ],
   "source": [
    "string = str(input(\"Enter a binary string: \"))\n",
    "binary_set = {'0','1'}\n",
    "set_string = set(string)\n",
    "\n",
    "if binary_set == set_string or set_string == {'0'} or set_string == {'1'}:\n",
    "    print(string,\"is a binary string.\")\n",
    "else:\n",
    "    print(string,\"is not a binary string.\")"
   ]
  },
  {
   "cell_type": "markdown",
   "metadata": {},
   "source": [
    "# Q5: Write a Python program to find uncommon words from two Strings?"
   ]
  },
  {
   "cell_type": "code",
   "execution_count": 9,
   "metadata": {},
   "outputs": [
    {
     "name": "stdout",
     "output_type": "stream",
     "text": [
      "Enter first string : fggfgbrf 3546%$#\n",
      "Enter second string : jenbgjdfgj*&^ 124324\n",
      "All uncommon words from both the string are:-  fggfgbrf 3546%$# jenbgjdfgj*&^ 124324\n"
     ]
    }
   ],
   "source": [
    "try:\n",
    "    str1 = input('Enter first string : ')\n",
    "    str2 = input('Enter second string : ')\n",
    "    str1 = str1.lower()\n",
    "    str2 = str2.lower()\n",
    "    str1List = str1.split()\n",
    "    str2List = str2.split()\n",
    "    uncommonWords = \"\"\n",
    "    for words in str1List:\n",
    "        if words not in str2List:\n",
    "            uncommonWords = uncommonWords+\" \"+words\n",
    "    for words in str2List:\n",
    "        if words not in str1List:\n",
    "            uncommonWords = uncommonWords+\" \"+words\n",
    "    print(\"All uncommon words from both the string are:-\", uncommonWords)\n",
    "except (AttributeError,NameError) as e:\n",
    "    print(\"Error is: \",e)"
   ]
  },
  {
   "cell_type": "markdown",
   "metadata": {},
   "source": [
    "# Q6: Write a Python to find all duplicate characters in string?"
   ]
  },
  {
   "cell_type": "code",
   "execution_count": 10,
   "metadata": {},
   "outputs": [
    {
     "name": "stdout",
     "output_type": "stream",
     "text": [
      "Enter a string with(preferably) repeating characters: this is not my creation,we are god's creation\n",
      "Repeating characters are:- t , i , s , n , o , c , r , e , a ,\n"
     ]
    }
   ],
   "source": [
    "string = str(input(\"Enter a string with(preferably) repeating characters: \"))\n",
    "duplicates = []\n",
    "for char in string:\n",
    "    if string.count(char) > 1:\n",
    "        if char == \" \":\n",
    "            continue\n",
    "        elif char not in duplicates:\n",
    "            duplicates.append(char)\n",
    "            duplicates.append(\",\")\n",
    "print(\"Repeating characters are:-\",*duplicates)"
   ]
  },
  {
   "cell_type": "markdown",
   "metadata": {},
   "source": [
    "# Q7: Write a Python Program to check if a string contains any special character?"
   ]
  },
  {
   "cell_type": "code",
   "execution_count": 11,
   "metadata": {},
   "outputs": [
    {
     "name": "stdout",
     "output_type": "stream",
     "text": [
      "Enter a string with(preferably) repeating characters: vaibhav@#$gupta\n",
      "We found special characters in the string\n"
     ]
    }
   ],
   "source": [
    "string = str(input(\"Enter a string with(preferably) repeating characters: \"))\n",
    "special_characters = \" !@#$%^&*()-+?_=,<>/\"\n",
    "if any(i in special_characters for i in string):\n",
    "    print(\"We found special characters in the string\")\n",
    "else:\n",
    "    print(\"There are no special characters in the string.\")"
   ]
  }
 ],
 "metadata": {
  "kernelspec": {
   "display_name": "Python 3",
   "language": "python",
   "name": "python3"
  },
  "language_info": {
   "codemirror_mode": {
    "name": "ipython",
    "version": 3
   },
   "file_extension": ".py",
   "mimetype": "text/x-python",
   "name": "python",
   "nbconvert_exporter": "python",
   "pygments_lexer": "ipython3",
   "version": "3.8.5"
  }
 },
 "nbformat": 4,
 "nbformat_minor": 4
}
