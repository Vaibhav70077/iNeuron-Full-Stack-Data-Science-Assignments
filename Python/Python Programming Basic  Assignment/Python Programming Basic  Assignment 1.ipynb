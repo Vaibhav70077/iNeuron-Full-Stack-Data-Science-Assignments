{
 "cells": [
  {
   "cell_type": "markdown",
   "metadata": {},
   "source": [
    "# 1.\tWrite a Python program to print \"Hello Python\"?"
   ]
  },
  {
   "cell_type": "code",
   "execution_count": 2,
   "metadata": {},
   "outputs": [
    {
     "name": "stdout",
     "output_type": "stream",
     "text": [
      "Hello Python\n"
     ]
    }
   ],
   "source": [
    "print(\"Hello Python\")"
   ]
  },
  {
   "cell_type": "markdown",
   "metadata": {},
   "source": [
    "# 2.\tWrite a Python program to do arithmetical operations addition and division.?"
   ]
  },
  {
   "cell_type": "code",
   "execution_count": 5,
   "metadata": {},
   "outputs": [
    {
     "name": "stdout",
     "output_type": "stream",
     "text": [
      "Enter the value a : 42245\n",
      "Enter the value b : 235\n",
      "The addition of values 42480.0\n"
     ]
    }
   ],
   "source": [
    "# Addition\n",
    "\n",
    "a = float(input(\"Enter the value a : \"))\n",
    "b = float(input(\"Enter the value b : \"))\n",
    "print(\"The addition of values\",a+b)"
   ]
  },
  {
   "cell_type": "code",
   "execution_count": 8,
   "metadata": {},
   "outputs": [
    {
     "name": "stdout",
     "output_type": "stream",
     "text": [
      "Enter the value a : 345325\n",
      "Enter the value b : 546\n",
      "The division of values 632.4633699633699\n"
     ]
    }
   ],
   "source": [
    "# Divsision\n",
    "\n",
    "a = float(input(\"Enter the value a : \"))\n",
    "b = float(input(\"Enter the value b : \"))\n",
    "print(\"The division of values\",a/b)"
   ]
  },
  {
   "cell_type": "markdown",
   "metadata": {},
   "source": [
    "# 3.\tWrite a Python program to find the area of a triangle?"
   ]
  },
  {
   "cell_type": "code",
   "execution_count": 1,
   "metadata": {},
   "outputs": [
    {
     "name": "stdout",
     "output_type": "stream",
     "text": [
      "Enter the base : 45\n",
      "Enter the height : 67\n",
      "Area of Triangle :  1507.5\n"
     ]
    }
   ],
   "source": [
    "# Area of Triangle\n",
    "b = float(input(\"Enter the base : \"))\n",
    "h = float(input(\"Enter the height : \"))\n",
    "area = (b*h)/2\n",
    "print(\"Area of Triangle : \",area)"
   ]
  },
  {
   "cell_type": "markdown",
   "metadata": {},
   "source": [
    "# 4.\tWrite a Python program to swap two variables?"
   ]
  },
  {
   "cell_type": "code",
   "execution_count": 7,
   "metadata": {},
   "outputs": [
    {
     "name": "stdout",
     "output_type": "stream",
     "text": [
      "Enter the value a : 3245\n",
      "Enter the value b : 32456342\n",
      "The value of a after swapping :  32456342.0\n",
      "The value of b after swapping :  3245.0\n"
     ]
    }
   ],
   "source": [
    "a = float(input(\"Enter the value a : \"))\n",
    "b = float(input(\"Enter the value b : \"))\n",
    "c = a         # c is a temporary variable\n",
    "a = b\n",
    "b = c\n",
    "print(\"The value of a after swapping : \",a)\n",
    "print(\"The value of b after swapping : \",b)"
   ]
  },
  {
   "cell_type": "markdown",
   "metadata": {},
   "source": [
    "# 5.\tWrite a Python program to generate a random number?"
   ]
  },
  {
   "cell_type": "code",
   "execution_count": 3,
   "metadata": {},
   "outputs": [
    {
     "name": "stdout",
     "output_type": "stream",
     "text": [
      "A randon number:-  16114\n"
     ]
    }
   ],
   "source": [
    "import random as r\n",
    "print(\"A randon number:- \",r.randint(0,90000))"
   ]
  },
  {
   "cell_type": "code",
   "execution_count": null,
   "metadata": {},
   "outputs": [],
   "source": []
  }
 ],
 "metadata": {
  "kernelspec": {
   "display_name": "Python 3",
   "language": "python",
   "name": "python3"
  },
  "language_info": {
   "codemirror_mode": {
    "name": "ipython",
    "version": 3
   },
   "file_extension": ".py",
   "mimetype": "text/x-python",
   "name": "python",
   "nbconvert_exporter": "python",
   "pygments_lexer": "ipython3",
   "version": "3.8.5"
  }
 },
 "nbformat": 4,
 "nbformat_minor": 4
}
