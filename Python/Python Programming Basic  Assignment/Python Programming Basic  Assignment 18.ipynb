{
 "cells": [
  {
   "cell_type": "markdown",
   "metadata": {},
   "source": [
    "# Q1: Create a function that takes a list of non-negative integers and strings and return a new list without the strings."
   ]
  },
  {
   "cell_type": "markdown",
   "metadata": {},
   "source": [
    "Ex:\n",
    "\n",
    "i. filter_list([1, 2, \"a\", \"b\"]) ➞ [1, 2]\n",
    "\n",
    "ii. filter_list([1, \"a\", \"b\", 0, 15]) ➞ [1, 0, 15]\n",
    "\n",
    "iii. filter_list([1, 2, \"aasf\", \"1\", \"123\", 123]) ➞ [1, 2, 123]"
   ]
  },
  {
   "cell_type": "code",
   "execution_count": 1,
   "metadata": {},
   "outputs": [
    {
     "name": "stdout",
     "output_type": "stream",
     "text": [
      "List without strings and non-negative integers are: [1, 2, 123]\n"
     ]
    }
   ],
   "source": [
    "filter_list = [1, 2, \"aasf\", \"1\", \"123\", 123, -123]\n",
    "new_list = []\n",
    "for i in filter_list:\n",
    "    if type(i) == int and i >= 0:\n",
    "        new_list.append(i)\n",
    "print(\"List without strings and non-negative integers are:\",new_list)"
   ]
  },
  {
   "cell_type": "markdown",
   "metadata": {},
   "source": [
    "# Q2: The \"Reverser\" takes a string as input and returns that string in reverse order, with the opposite case."
   ]
  },
  {
   "cell_type": "markdown",
   "metadata": {},
   "source": [
    "Ex:\n",
    "\n",
    "i. reverse(\"Hello World\") ➞ \"DLROw OLLEh\"\n",
    "\n",
    "ii. reverse(\"ReVeRsE\") ➞ \"eSrEvEr\"\n",
    "\n",
    "iii. reverse(\"Radar\") ➞ \"RADAr\""
   ]
  },
  {
   "cell_type": "code",
   "execution_count": 2,
   "metadata": {},
   "outputs": [
    {
     "name": "stdout",
     "output_type": "stream",
     "text": [
      "Enter a string with a combination of lower and upper cases: Vaibhav Gupta\n",
      "The string is: ATPUg VAHBIAv\n"
     ]
    }
   ],
   "source": [
    "Reverser = str(input(\"Enter a string with a combination of lower and upper cases: \"))\n",
    "print(\"The string is:\",Reverser[::-1].swapcase())"
   ]
  },
  {
   "cell_type": "markdown",
   "metadata": {},
   "source": [
    "# Q3: You can assign variables from lists like this:"
   ]
  },
  {
   "cell_type": "markdown",
   "metadata": {},
   "source": [
    "lst = [1, 2, 3, 4, 5, 6]\n",
    "\n",
    "first = lst[0] , middle = lst[1:-1] , last = lst[-1]\n",
    "\n",
    "print(first) ➞ outputs 1\n",
    "\n",
    "print(middle) ➞ outputs [2, 3, 4, 5]\n",
    "\n",
    "print(last) ➞ outputs 6"
   ]
  },
  {
   "cell_type": "markdown",
   "metadata": {},
   "source": [
    "With Python 3, you can assign variables from lists in a much more succinct way. Create variables first, middle and last from the given list using destructuring assignment (check the Resources tab for some examples), where:\n",
    "\n",
    "first  ➞ 1  \n",
    "middle➞ [2, 3, 4, 5]  \n",
    "last➞ 6   \n",
    "\n",
    "Your task is to unpack the list writeyourcodehere into three variables, being first, middle, and last, with middle being everything in between the first and last element. Then print all three variables.\n"
   ]
  },
  {
   "cell_type": "code",
   "execution_count": 3,
   "metadata": {},
   "outputs": [
    {
     "name": "stdout",
     "output_type": "stream",
     "text": [
      "The list is -  [1, 2, 3, 4, 5, 6]\n",
      "First: 1 \n",
      "Middle: [2, 3, 4, 5] \n",
      "Last: 6\n"
     ]
    }
   ],
   "source": [
    "lst = [1, 2, 3, 4, 5, 6]\n",
    "first,middle,last = lst[0],lst[1:-1],lst[-1]\n",
    "print(\"The list is - \",lst)\n",
    "print(\"First:\",first,\"\\nMiddle:\",middle,\"\\nLast:\",last)"
   ]
  },
  {
   "cell_type": "markdown",
   "metadata": {},
   "source": [
    "# Q4: Write a function that calculates the factorial of a number recursively."
   ]
  },
  {
   "cell_type": "markdown",
   "metadata": {},
   "source": [
    "Ex:\n",
    "\n",
    "i. factorial(5) ➞ 120\n",
    "\n",
    "ii. factorial(3) ➞ 6\n",
    "\n",
    "iii. factorial(1) ➞ 1\n",
    "\n",
    "iv. factorial(0) ➞ 1"
   ]
  },
  {
   "cell_type": "code",
   "execution_count": 4,
   "metadata": {},
   "outputs": [
    {
     "name": "stdout",
     "output_type": "stream",
     "text": [
      "Enter a number: 5\n",
      "The factorial of 5 is: 120\n"
     ]
    }
   ],
   "source": [
    "def factorial():\n",
    "    import math\n",
    "    while True:\n",
    "        num = int(input(\"Enter a number: \"))\n",
    "        if num < 0:\n",
    "            print(\"Please enter a non-negative integer.\")\n",
    "        else:\n",
    "            break\n",
    "    print(\"The factorial of\",num,\"is:\",math.factorial(num))\n",
    "factorial()     "
   ]
  },
  {
   "cell_type": "markdown",
   "metadata": {},
   "source": [
    "# Q5: Write a function that moves all elements of one type to the end of the list."
   ]
  },
  {
   "cell_type": "markdown",
   "metadata": {},
   "source": [
    "Ex:\n",
    "\n",
    "i. move_to_end([1, 3, 2, 4, 4, 1], 1) ➞ [3, 2, 4, 4, 1, 1] (Move all the 1s to the end of the array.)\n",
    "\n",
    "ii. move_to_end([7, 8, 9, 1, 2, 3, 4], 9) ➞ [7, 8, 1, 2, 3, 4, 9]\n",
    "\n",
    "iii. move_to_end([\"a\", \"a\", \"a\", \"b\"], \"a\") ➞ [\"b\", \"a\", \"a\", \"a\"]"
   ]
  },
  {
   "cell_type": "code",
   "execution_count": 6,
   "metadata": {},
   "outputs": [
    {
     "name": "stdout",
     "output_type": "stream",
     "text": [
      "Enter the range for the list:6\n",
      "Enter something:1\n",
      "Enter something:3\n",
      "Enter something:2\n",
      "Enter something:4\n",
      "Enter something:4\n",
      "Enter something:1\n",
      "List before swapping is - ['1', '3', '2', '4', '4', '1']\n",
      "List after swapping is -  ['1', '3', '2', '4', '4', '1']\n"
     ]
    }
   ],
   "source": [
    "def pushToEnd(sequence, toBeLast):\n",
    "    swapIndex = sequence.index(toBeLast)\n",
    "    sequence[-1], sequence[swapIndex] = sequence[swapIndex], sequence[-1]\n",
    "upper = int(input(\"Enter the range for the list:\"))\n",
    "move_to_end = [input(\"Enter something:\") for x in range(upper)]\n",
    "print(\"List before swapping is -\",move_to_end)\n",
    "pushToEnd(move_to_end, move_to_end[0])\n",
    "print(\"List after swapping is - \",move_to_end)"
   ]
  }
 ],
 "metadata": {
  "kernelspec": {
   "display_name": "Python 3",
   "language": "python",
   "name": "python3"
  },
  "language_info": {
   "codemirror_mode": {
    "name": "ipython",
    "version": 3
   },
   "file_extension": ".py",
   "mimetype": "text/x-python",
   "name": "python",
   "nbconvert_exporter": "python",
   "pygments_lexer": "ipython3",
   "version": "3.8.5"
  }
 },
 "nbformat": 4,
 "nbformat_minor": 4
}
