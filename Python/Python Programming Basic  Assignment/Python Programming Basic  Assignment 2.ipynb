{
 "cells": [
  {
   "cell_type": "markdown",
   "metadata": {},
   "source": [
    "# 1.\tWrite a Python program to convert kilometers to miles?"
   ]
  },
  {
   "cell_type": "code",
   "execution_count": 6,
   "metadata": {},
   "outputs": [
    {
     "name": "stdout",
     "output_type": "stream",
     "text": [
      "Enter the kilometers you want to convert : 153125\n",
      "153125.0 kilometers is equal to  95147.434375  miles\n"
     ]
    }
   ],
   "source": [
    "km = float(input(\"Enter the kilometers you want to convert : \"))\n",
    "cv = 0.621371                                # 1km contains 0.621371 miles,cv is holding that value which convert km into miles\n",
    "miles = km * cv\n",
    "print(km,\"kilometers is equal to \",miles,\" miles\")"
   ]
  },
  {
   "cell_type": "markdown",
   "metadata": {},
   "source": [
    "# 2.\tWrite a Python program to convert Celsius to Fahrenheit?"
   ]
  },
  {
   "cell_type": "code",
   "execution_count": 5,
   "metadata": {},
   "outputs": [
    {
     "name": "stdout",
     "output_type": "stream",
     "text": [
      "Enter the degree in celsius : 52\n",
      "The degree in Fahrenheit after conversion :  125.6\n"
     ]
    }
   ],
   "source": [
    "cels = float(input(\"Enter the degree in celsius : \"))\n",
    "fahr = (cels * 9/5) + 32\n",
    "print(\"The degree in Fahrenheit after conversion : \",fahr)"
   ]
  },
  {
   "cell_type": "markdown",
   "metadata": {},
   "source": [
    "# 3.\tWrite a Python program to display calendar?"
   ]
  },
  {
   "cell_type": "code",
   "execution_count": 2,
   "metadata": {},
   "outputs": [
    {
     "name": "stdout",
     "output_type": "stream",
     "text": [
      "Enter year: 1995\n",
      "Enter month: 10\n",
      "\n",
      "     October 1995\n",
      "Mo Tu We Th Fr Sa Su\n",
      "                   1\n",
      " 2  3  4  5  6  7  8\n",
      " 9 10 11 12 13 14 15\n",
      "16 17 18 19 20 21 22\n",
      "23 24 25 26 27 28 29\n",
      "30 31\n",
      "\n"
     ]
    }
   ],
   "source": [
    "import calendar\n",
    "yy = int(input(\"Enter year: \"))\n",
    "mm = int(input(\"Enter month: \"))\n",
    "print(\"\\n\",calendar.month(yy,mm))"
   ]
  },
  {
   "cell_type": "markdown",
   "metadata": {},
   "source": [
    "# Q4. Write a Python program to solve quadratic equation?"
   ]
  },
  {
   "cell_type": "code",
   "execution_count": 10,
   "metadata": {},
   "outputs": [
    {
     "name": "stdout",
     "output_type": "stream",
     "text": [
      "A quadratic equation is ax2 + bx + c = 0, where a, b and c are real numbers and a ≠ 0\n",
      "Enter a: 4\n",
      "Enter b: 5\n",
      "Enter c: 6\n",
      "The solution are (-0.625-1.0532687216470449j) and (-0.625+1.0532687216470449j)\n"
     ]
    }
   ],
   "source": [
    "import cmath  \n",
    "print(\"A quadratic equation is ax2 + bx + c = 0, where a, b and c are real numbers and a ≠ 0\")\n",
    "a = float(input('Enter a: '))  \n",
    "b = float(input('Enter b: '))  \n",
    "c = float(input('Enter c: '))  \n",
    "d = (b**2) - (4*a*c)\n",
    "s1 = (-b-cmath.sqrt(d))/(2*a)  \n",
    "s2 = (-b+cmath.sqrt(d))/(2*a)\n",
    "print('The solution are {0} and {1}'.format(s1,s2))   "
   ]
  },
  {
   "cell_type": "markdown",
   "metadata": {},
   "source": [
    "# Q5. Write a Python program to swap two variables without temp variable?"
   ]
  },
  {
   "cell_type": "code",
   "execution_count": 15,
   "metadata": {},
   "outputs": [
    {
     "name": "stdout",
     "output_type": "stream",
     "text": [
      "Entry 1:- 34\n",
      "Entry 2:- 55\n",
      "\n",
      "Swapped Entries:- 55 , 34\n"
     ]
    }
   ],
   "source": [
    "a = str(input(\"Entry 1:- \"))\n",
    "b = str(input(\"Entry 2:- \"))\n",
    "a,b=b,a\n",
    "print(\"\\nSwapped Entries:-\",a,\",\",b)"
   ]
  }
 ],
 "metadata": {
  "kernelspec": {
   "display_name": "Python 3",
   "language": "python",
   "name": "python3"
  },
  "language_info": {
   "codemirror_mode": {
    "name": "ipython",
    "version": 3
   },
   "file_extension": ".py",
   "mimetype": "text/x-python",
   "name": "python",
   "nbconvert_exporter": "python",
   "pygments_lexer": "ipython3",
   "version": "3.8.5"
  }
 },
 "nbformat": 4,
 "nbformat_minor": 4
}
