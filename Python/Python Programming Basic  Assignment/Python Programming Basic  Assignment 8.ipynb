{
 "cells": [
  {
   "cell_type": "markdown",
   "metadata": {},
   "source": [
    "# Q1: Write a Python Program to Add Two Matrices?"
   ]
  },
  {
   "cell_type": "code",
   "execution_count": 2,
   "metadata": {},
   "outputs": [
    {
     "name": "stdout",
     "output_type": "stream",
     "text": [
      "disclaimer: the size of the second matrix will be the same as the first one! \n",
      "\n",
      "Enter the number of rows : 3\n",
      "Enter the number of columns: 3\n",
      "Enter the elements of first matrix:\n",
      "1\n",
      "2\n",
      "3\n",
      "4\n",
      "5\n",
      "6\n",
      "7\n",
      "8\n",
      "9\n",
      "\n",
      "The first matrix is: \n",
      "[1, 2, 3]\n",
      "[4, 5, 6]\n",
      "[7, 8, 9]\n",
      "\n",
      "Enter the elements of the second matrix:\n",
      "9\n",
      "8\n",
      "7\n",
      "6\n",
      "5\n",
      "4\n",
      "3\n",
      "2\n",
      "1\n",
      "\n",
      "The second matrix is: \n",
      "[9, 8, 7]\n",
      "[6, 5, 4]\n",
      "[3, 2, 1]\n",
      "\n",
      "The Sum of the two matrices is: \n",
      "[10, 10, 10]\n",
      "[10, 10, 10]\n",
      "[10, 10, 10]\n"
     ]
    }
   ],
   "source": [
    "print(\"disclaimer: the size of the second matrix will be the same as the first one! \\n\")\n",
    "\n",
    "rows = int(input(\"Enter the number of rows : \" ))\n",
    "columns = int(input(\"Enter the number of columns: \"))\n",
    "print(\"Enter the elements of first matrix:\")\n",
    "matrix_1 = [[int(input()) for i in range(columns)] for i in range(rows)]\n",
    "print(\"\\nThe first matrix is: \")\n",
    "for n in matrix_1:\n",
    "    print(n)\n",
    "\n",
    "print(\"\\nEnter the elements of the second matrix:\")\n",
    "matrix_2 = [[int(input()) for i in range(columns)] for i in range(rows)]\n",
    "print(\"\\nThe second matrix is: \")\n",
    "for n in matrix_2:\n",
    "    print(n)\n",
    "    \n",
    "mat_add = [[0 for i in range(columns)] for i in range(rows)]\n",
    "\n",
    "for i in range(rows):\n",
    "    for j in range(columns):\n",
    "        mat_add[i][j] = matrix_1[i][j]+matrix_2[i][j]\n",
    "\n",
    "print('\\nThe Sum of the two matrices is: ')\n",
    "for r in mat_add:\n",
    "    print(r)"
   ]
  },
  {
   "cell_type": "markdown",
   "metadata": {},
   "source": [
    "# Q2: Write a Python Program to Multiply Two Matrices?"
   ]
  },
  {
   "cell_type": "code",
   "execution_count": 5,
   "metadata": {},
   "outputs": [
    {
     "name": "stdout",
     "output_type": "stream",
     "text": [
      "\n",
      "Enter 1 or 2: 1\n",
      "Enter the number of rows : 3\n",
      "Enter the number of columns: 3\n",
      "Enter the elements of the matrix:\n",
      "1\n",
      "2\n",
      "3\n",
      "4\n",
      "5\n",
      "6\n",
      "7\n",
      "8\n",
      "9\n",
      "\n",
      "The matrix is: \n",
      "[1, 2, 3]\n",
      "[4, 5, 6]\n",
      "[7, 8, 9]\n",
      "Enter the number to be multiplied with the matrix: \n",
      "Enter a number: 9\n",
      "\n",
      "The scalar matrix is: \n",
      "[9, 36, 63]\n",
      "[18, 45, 72]\n",
      "[27, 54, 81]\n"
     ]
    }
   ],
   "source": [
    "# print(\"WELCOME. CHOOSE 1 FOR A SCALAR MULTIPLICAION OR 2 FOR MULTIPLYING TWO MATRICES:\")\n",
    "while True:\n",
    "    choice = int(input('\\nEnter 1 or 2: '))\n",
    "    if choice == 1 or choice == 2:\n",
    "        break\n",
    "    else:\n",
    "        print(\"Wrong entry. Choose only between 1 or 2! \\n\")\n",
    "        continue\n",
    "if choice == 1:\n",
    "    rows = int(input(\"Enter the number of rows : \" ))\n",
    "    columns = int(input(\"Enter the number of columns: \"))\n",
    "    print(\"Enter the elements of the matrix:\")\n",
    "    matrix = [[int(input()) for i in range(columns)] for i in range(rows)]\n",
    "    print(\"\\nThe matrix is: \")\n",
    "    for n in matrix:\n",
    "        print(n)\n",
    "    print(\"Enter the number to be multiplied with the matrix: \")\n",
    "    num = int(input(\"Enter a number: \"))\n",
    "    mat_scalar = [[num*matrix[i][j] for i in range(rows)] for j in range(columns)]\n",
    "    print('\\nThe scalar matrix is: ')\n",
    "    for r in mat_scalar:\n",
    "        print(r)\n",
    "if choice == 2:\n",
    "    print(\"\\nDISCLAIMER: the size of the second matrix will be the same as the first one! \\n\")\n",
    "\n",
    "    rows = int(input(\"Enter the number of rows : \" ))\n",
    "    columns = int(input(\"Enter the number of columns: \"))\n",
    "\n",
    "    print(\"Enter the elements of first matrix:\")\n",
    "    matrix_1 = [[int(input()) for i in range(columns)] for i in range(rows)]\n",
    "    \n",
    "    print(\"\\nEnter the elements of the second matrix:\")\n",
    "    matrix_2 = [[int(input()) for i in range(columns)] for i in range(rows)]\n",
    "    print(\"\\nThe first matrix is: \")\n",
    "    for n in matrix_1:\n",
    "        print(n)\n",
    "    print(\"\\nThe second matrix is: \")\n",
    "    for n in matrix_2:\n",
    "        print(n)\n",
    "\n",
    "    result = [[0 for i in range(columns)] for i in range(rows)]\n",
    "\n",
    "    for i in range(len(matrix_1)):\n",
    "        for j in range(len(matrix_2)):\n",
    "            for k in range(len(matrix_2)):\n",
    "                result[i][j] += matrix_1[i][k] * matrix_2[k][j]\n",
    "    print(\"\\nThe multiplied matrix is: \")\n",
    "    for r in result:\n",
    "        print(r)"
   ]
  },
  {
   "cell_type": "markdown",
   "metadata": {},
   "source": [
    "# Q3: Write a Python Program to Transpose a Matrix?"
   ]
  },
  {
   "cell_type": "code",
   "execution_count": 6,
   "metadata": {},
   "outputs": [
    {
     "name": "stdout",
     "output_type": "stream",
     "text": [
      "Enter the number of rows : 3\n",
      "Enter the number of columns: 3\n",
      "Enter the elements of first matrix:\n",
      "1\n",
      "2\n",
      "3\n",
      "4\n",
      "5\n",
      "6\n",
      "7\n",
      "8\n",
      "9\n",
      "\n",
      "The matrix is: \n",
      "[1, 2, 3]\n",
      "[4, 5, 6]\n",
      "[7, 8, 9]\n",
      "\n",
      "the transpose of the matrix is:\n",
      "[1, 4, 7]\n",
      "[2, 5, 8]\n",
      "[3, 6, 9]\n"
     ]
    }
   ],
   "source": [
    "rows = int(input(\"Enter the number of rows : \" ))\n",
    "columns = int(input(\"Enter the number of columns: \"))\n",
    "print(\"Enter the elements of first matrix:\")\n",
    "matrix = [[int(input()) for i in range(columns)] for i in range(rows)]\n",
    "print(\"\\nThe matrix is: \")\n",
    "for n in matrix:\n",
    "    print(n)\n",
    "transpose = [[matrix[j][i] for j in range(len(matrix))] for i in range(len(matrix[0]))]\n",
    "print(\"\\nthe transpose of the matrix is:\")\n",
    "for m in transpose:\n",
    "    print(m)"
   ]
  },
  {
   "cell_type": "markdown",
   "metadata": {},
   "source": [
    "# Q4: Write a Python Program to Sort Words in Alphabetic Order?"
   ]
  },
  {
   "cell_type": "code",
   "execution_count": 13,
   "metadata": {},
   "outputs": [
    {
     "name": "stdout",
     "output_type": "stream",
     "text": [
      "Enter a string: sdfvsdsdvds\n",
      "Alphabetically sorted words from the string are: \n",
      "\n"
     ]
    }
   ],
   "source": [
    "string = input(\"Enter a string: \")  \n",
    "sorting = string.split()  # splitting the string into seperate words\n",
    "sorting.sort()  # sorting words in alphabetical order\n",
    "print(\"Alphabetically sorted words from the string are: \\n\")\n",
    "words = ''\n",
    "for word in words:  \n",
    "    print(word)  "
   ]
  },
  {
   "cell_type": "markdown",
   "metadata": {},
   "source": [
    "# Q5: Write a Python Program to Remove Punctuation From a String?"
   ]
  },
  {
   "cell_type": "code",
   "execution_count": 15,
   "metadata": {},
   "outputs": [
    {
     "name": "stdout",
     "output_type": "stream",
     "text": [
      "Enter a string: wef!lml@mlml#lml$ml%hVH^ini&ninvh*YHf(cg)\n",
      "String without punctuation:  weflmlmlmllmlmlhVHinininvhYHfcg\n"
     ]
    }
   ],
   "source": [
    "punctuations = '''!()-[]{};:'\"\\,<>./?@#$%^&*_~'''\n",
    "string = input(\"Enter a string: \")\n",
    "empty_string = \"\"\n",
    "for n in string:\n",
    "    if n not in punctuations:\n",
    "        empty_string += n\n",
    "print(\"String without punctuation: \",empty_string)"
   ]
  }
 ],
 "metadata": {
  "kernelspec": {
   "display_name": "Python 3",
   "language": "python",
   "name": "python3"
  },
  "language_info": {
   "codemirror_mode": {
    "name": "ipython",
    "version": 3
   },
   "file_extension": ".py",
   "mimetype": "text/x-python",
   "name": "python",
   "nbconvert_exporter": "python",
   "pygments_lexer": "ipython3",
   "version": "3.8.5"
  }
 },
 "nbformat": 4,
 "nbformat_minor": 4
}
