{
 "cells": [
  {
   "cell_type": "markdown",
   "metadata": {},
   "source": [
    "# Q1: Please write a program using generator to print the numbers which can be divisible by 5 and 7 between 0 and n in comma separated form while n is input by console."
   ]
  },
  {
   "cell_type": "markdown",
   "metadata": {},
   "source": [
    "Ex: If the user defined input(n) = 100, then the output of the program should be: 0,35,70"
   ]
  },
  {
   "cell_type": "code",
   "execution_count": 2,
   "metadata": {},
   "outputs": [
    {
     "name": "stdout",
     "output_type": "stream",
     "text": [
      "Enter the upper limit:- 100\n",
      "The numbers will be checked between 0 and 100\n",
      "All numbers are:\n",
      "0,35,70,"
     ]
    }
   ],
   "source": [
    "list_div_by_7 = []\n",
    "num = int(input(\"Enter the upper limit:- \"))\n",
    "print(\"The numbers will be checked between 0 and\",num)\n",
    "for i in range(0,n):\n",
    "    if i%5==0 and i%7==0:\n",
    "        list_div_by_7.append(i)\n",
    "    else: continue\n",
    "print(\"All numbers are:\")\n",
    "for i in list_div_by_7:\n",
    "    print(i,end=\",\")"
   ]
  },
  {
   "cell_type": "markdown",
   "metadata": {},
   "source": [
    "# Q2: Please write a program using generator to print the even numbers between 0 and n in comma separated form while n is input by console."
   ]
  },
  {
   "cell_type": "markdown",
   "metadata": {},
   "source": [
    "Ex: If user defined input(n) = 10, then the output of the program should be: 0,2,4,6,8,10"
   ]
  },
  {
   "cell_type": "code",
   "execution_count": 3,
   "metadata": {},
   "outputs": [
    {
     "name": "stdout",
     "output_type": "stream",
     "text": [
      "Enter the upper limit:- 10\n",
      "The numbers will be checked between 0 and 10\n",
      "All numbers are:\n",
      "0,2,4,6,8,10,"
     ]
    }
   ],
   "source": [
    "list_addition = []\n",
    "num = int(input(\"Enter the upper limit:- \"))\n",
    "print(\"The numbers will be checked between 0 and\",num)\n",
    "for i in range(0,num+1):\n",
    "    if i%2==0:\n",
    "        list_addition.append(i)\n",
    "    else: continue\n",
    "print(\"All numbers are:\")\n",
    "for i in list_addition:\n",
    "    print(i,end=\",\")"
   ]
  },
  {
   "cell_type": "markdown",
   "metadata": {},
   "source": [
    "# Q3: Please write a program using list comprehension to print the Fibonacci Sequence in comma separated form with a given n input by console."
   ]
  },
  {
   "cell_type": "markdown",
   "metadata": {},
   "source": [
    "The Fibonacci Sequence is computed based on the following formula:\n",
    "\n",
    "f(n)=0 if n=0\n",
    "\n",
    "f(n)=1 if n=1\n",
    "\n",
    "and f(n)=f(n-1)+f(n-2) if n>1\n",
    "\n",
    "Ex:\n",
    "\n",
    "If the user defined input = 7, then the output of the program should be = [0,1,1,2,3,5,8,13]"
   ]
  },
  {
   "cell_type": "code",
   "execution_count": 4,
   "metadata": {},
   "outputs": [
    {
     "name": "stdout",
     "output_type": "stream",
     "text": [
      "Enter the upper limit for the 7\n",
      "The list is:\n",
      " [0, 1, 1, 2, 3, 5, 8, 13]\n"
     ]
    }
   ],
   "source": [
    "def fibonacci():\n",
    "    n = int(input(\"Enter the upper limit for the \"))\n",
    "    sequence = [0,1]\n",
    "    for i in range(2,n+1):\n",
    "        next_num = sequence[-1] + sequence[-2]\n",
    "        sequence.append(next_num)\n",
    "    print(\"The list is:\\n\",sequence)\n",
    "sequence = fibonacci()"
   ]
  },
  {
   "cell_type": "markdown",
   "metadata": {},
   "source": [
    "# Q4: Assuming that we have some email addresses in the \"username@companyname.com\" format, please write program to print the user name of a given email address. Both user names and company names are composed of letters only."
   ]
  },
  {
   "cell_type": "markdown",
   "metadata": {},
   "source": [
    "Ex: If the following email address is given as input to the program: john@google.com, then the output of the program should be: john"
   ]
  },
  {
   "cell_type": "code",
   "execution_count": 5,
   "metadata": {},
   "outputs": [
    {
     "name": "stdout",
     "output_type": "stream",
     "text": [
      "Enter your email: john@google.com\n",
      "The result is: john\n"
     ]
    }
   ],
   "source": [
    "email = str(input(\"Enter your email: \")).split(\"@\")\n",
    "print(\"The result is:\",email[0])"
   ]
  },
  {
   "cell_type": "markdown",
   "metadata": {},
   "source": [
    "# Q5: Define a class named Shape and its subclass Square. The Square class has an init function which takes a length as argument. Both classes have a area function which can print the area of the shape where Shape's area is 0 by default."
   ]
  },
  {
   "cell_type": "code",
   "execution_count": 7,
   "metadata": {},
   "outputs": [
    {
     "name": "stdout",
     "output_type": "stream",
     "text": [
      "Enter the length: 46\n",
      "The area is:\n",
      "2116\n"
     ]
    }
   ],
   "source": [
    "class Shape(object):\n",
    "    def __init__(self):\n",
    "        pass\n",
    "    def area(self):\n",
    "        return 0\n",
    "class Square(Shape):\n",
    "    def __init__(self, l):\n",
    "        Shape.__init__(self)\n",
    "        self.length = l\n",
    "    def area(self):\n",
    "        print(\"The area is:\")\n",
    "        return self.length*self.length\n",
    "aSquare= Square(int(input(\"Enter the length: \")))\n",
    "print(aSquare.area())"
   ]
  }
 ],
 "metadata": {
  "kernelspec": {
   "display_name": "Python 3",
   "language": "python",
   "name": "python3"
  },
  "language_info": {
   "codemirror_mode": {
    "name": "ipython",
    "version": 3
   },
   "file_extension": ".py",
   "mimetype": "text/x-python",
   "name": "python",
   "nbconvert_exporter": "python",
   "pygments_lexer": "ipython3",
   "version": "3.8.5"
  }
 },
 "nbformat": 4,
 "nbformat_minor": 4
}
