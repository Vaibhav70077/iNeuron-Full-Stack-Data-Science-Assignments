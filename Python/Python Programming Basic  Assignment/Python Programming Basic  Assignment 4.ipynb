{
 "cells": [
  {
   "cell_type": "markdown",
   "metadata": {},
   "source": [
    "# Q1: Write a Python Program to Find the Factorial of a Number?"
   ]
  },
  {
   "cell_type": "code",
   "execution_count": 5,
   "metadata": {},
   "outputs": [
    {
     "name": "stdout",
     "output_type": "stream",
     "text": [
      "Enter a number:- 7\n",
      "Factorial of 7 is 5040\n"
     ]
    }
   ],
   "source": [
    "import math as m\n",
    "a = int(input(\"Enter a number:- \"))\n",
    "print(\"Factorial of\",a,\"is\",m.factorial(a))"
   ]
  },
  {
   "cell_type": "markdown",
   "metadata": {},
   "source": [
    "# Q2: Write a Python Program to Display the multiplication Table?"
   ]
  },
  {
   "cell_type": "code",
   "execution_count": 7,
   "metadata": {},
   "outputs": [
    {
     "name": "stdout",
     "output_type": "stream",
     "text": [
      "Enter a number for the table:- 3\n",
      "3 X 1 = 3\n",
      "3 X 2 = 6\n",
      "3 X 3 = 9\n",
      "3 X 4 = 12\n",
      "3 X 5 = 15\n",
      "3 X 6 = 18\n",
      "3 X 7 = 21\n",
      "3 X 8 = 24\n",
      "3 X 9 = 27\n",
      "3 X 10 = 30\n"
     ]
    }
   ],
   "source": [
    "b = int(input(\"Enter a number for the table:- \"))\n",
    "for i in range(1,11):\n",
    "    print(b,\"X\",i,\"=\",b*i)"
   ]
  },
  {
   "cell_type": "markdown",
   "metadata": {},
   "source": [
    "# Q3: Write a Python Program to Print the Fibonacci sequence?"
   ]
  },
  {
   "cell_type": "code",
   "execution_count": 10,
   "metadata": {},
   "outputs": [
    {
     "name": "stdout",
     "output_type": "stream",
     "text": [
      "How many terms? 15\n",
      "Fibonacci sequence:\n",
      "\n",
      "0 \t 1 \t 1 \t 2 \t 3 \t 5 \t 8 \t 13 \t 21 \t 34 \t 55 \t 89 \t 144 \t 233 \t 377 \t "
     ]
    }
   ],
   "source": [
    "t = int(input(\"How many terms? \"))\n",
    "a = 0\n",
    "b = 1\n",
    "x = 0\n",
    "if t <= 0:\n",
    "    print(\"Please enter a positive integer\")\n",
    "elif t == 1:\n",
    "    print(\"Fibonacci sequence upto\",t,\":\")\n",
    "    print(c)\n",
    "else:\n",
    "    print(\"Fibonacci sequence:\\n\")\n",
    "    for i in range(t):\n",
    "        print(a,\"\\t\",end= \" \")\n",
    "        a = b + a\n",
    "        b = x\n",
    "        x = a"
   ]
  },
  {
   "cell_type": "markdown",
   "metadata": {},
   "source": [
    "# Q4: Write a Python Program to Check Armstrong Number?"
   ]
  },
  {
   "cell_type": "code",
   "execution_count": 12,
   "metadata": {},
   "outputs": [
    {
     "name": "stdout",
     "output_type": "stream",
     "text": [
      "Enter a number:- 153\n",
      "153 is an armstrong number\n"
     ]
    }
   ],
   "source": [
    "d = int(input(\"Enter a number:- \"))\n",
    "e = d\n",
    "i = 0\n",
    "while d>0:\n",
    "    i = i+((d%10)*(d%10)*(d%10))\n",
    "    d = d//10\n",
    "    \n",
    "if e == i:\n",
    "    print(e,\"is an armstrong number\")\n",
    "else:\n",
    "    print(e,\"is not an armstrong number\")"
   ]
  },
  {
   "cell_type": "markdown",
   "metadata": {},
   "source": [
    "# Q5: Write a Python Program to Find Armstrong Number in an Interval?."
   ]
  },
  {
   "cell_type": "code",
   "execution_count": 18,
   "metadata": {},
   "outputs": [
    {
     "name": "stdout",
     "output_type": "stream",
     "text": [
      "Enter an lower range limit to find all the armstrong numbers:- 10\n",
      "Enter the upper range limit to find all the armstrong numbers:- 1000\n",
      "All armstrong numbers between 10 & 1000 are:-\n",
      "153 370 371 407 "
     ]
    }
   ],
   "source": [
    "u = int(input(\"Enter an lower range limit to find all the armstrong numbers:- \"))\n",
    "e = int(input(\"Enter the upper range limit to find all the armstrong numbers:- \"))\n",
    "print(\"All armstrong numbers between\",u,\"&\",e,\"are:-\")\n",
    "for i in range(u,e+1):\n",
    "    o = len(str(i))\n",
    "    s = 0\n",
    "    t = i\n",
    "    while t > 0:\n",
    "        d = t % 10\n",
    "        s += d ** o\n",
    "        t //= 10\n",
    "    if i == s:\n",
    "        print(i, end= \" \")"
   ]
  },
  {
   "cell_type": "markdown",
   "metadata": {},
   "source": [
    "# Q6: Write a Python Program to Find the Sum of Natural Numbers?"
   ]
  },
  {
   "cell_type": "code",
   "execution_count": 21,
   "metadata": {},
   "outputs": [
    {
     "name": "stdout",
     "output_type": "stream",
     "text": [
      "Enter the range upto where you want to print the sum of natural numbers:- 20\n",
      "All natural numbers between 1 and 20 are:-\n",
      "1 2 3 4 5 6 7 8 9 10 11 12 13 14 15 16 17 18 19 20 \n",
      "The sum of all natural numbers between 1 and 20 is:- 210\n"
     ]
    }
   ],
   "source": [
    "f = int(input(\"Enter the range upto where you want to print the sum of natural numbers:- \"))\n",
    "c = 0\n",
    "if f <= 0:\n",
    "    print(\"Natural numbers start from 1. Hence, sum  will be 0.\")\n",
    "else:\n",
    "    print(\"All natural numbers between 1 and\",f,\"are:-\")\n",
    "    for i in range(1,f+1):\n",
    "        c += i \n",
    "        print(i, end=\" \")\n",
    "    print(\"\\nThe sum of all natural numbers between 1 and\",f,\"is:-\",c)"
   ]
  }
 ],
 "metadata": {
  "kernelspec": {
   "display_name": "Python 3",
   "language": "python",
   "name": "python3"
  },
  "language_info": {
   "codemirror_mode": {
    "name": "ipython",
    "version": 3
   },
   "file_extension": ".py",
   "mimetype": "text/x-python",
   "name": "python",
   "nbconvert_exporter": "python",
   "pygments_lexer": "ipython3",
   "version": "3.8.5"
  }
 },
 "nbformat": 4,
 "nbformat_minor": 4
}
