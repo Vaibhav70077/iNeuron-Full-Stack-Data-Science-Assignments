{
 "cells": [
  {
   "cell_type": "markdown",
   "metadata": {},
   "source": [
    "# Q1: Is the Python Standard Library included with PyInputPlus?"
   ]
  },
  {
   "cell_type": "markdown",
   "metadata": {},
   "source": [
    "PyInputPlus is a Python module used for taking inputs with additional validation features. PyInputPlus will keep asking the user for text until they enter valid input"
   ]
  },
  {
   "cell_type": "markdown",
   "metadata": {},
   "source": [
    "# Q2: Why is PyInputPlus commonly imported with import pyinputplus as pypi?"
   ]
  },
  {
   "cell_type": "markdown",
   "metadata": {},
   "source": [
    "pypi is a common alias for PyInputPlus, just like sns is for seaborn, np is for numpy. They are being used geenrally by a large number of people and it is helpful in case when there are multiple people working on the same project. Even if they wont be available to answer calls, the other people would know what alias is being used for which library, hence saving time and confusion."
   ]
  },
  {
   "cell_type": "markdown",
   "metadata": {},
   "source": [
    "# Q3: How do you distinguish between inputInt() and inputFloat()?"
   ]
  },
  {
   "cell_type": "markdown",
   "metadata": {},
   "source": [
    "The differences are as follows:\n",
    "\n",
    "1. inputInt() : Accepts an integer value. This also takes additional parameters ‘min’, ‘max’, ‘greaterThan’ and ‘lessThan’ for bounds. Returns an int.\n",
    "\n",
    "2. inputFloat() : Accepts a floating-point numeric value. Also takes additional ‘min’, ‘max’, ‘greaterThan’ and ‘lessThan’ parameters. Returns a float."
   ]
  },
  {
   "cell_type": "markdown",
   "metadata": {},
   "source": [
    "# Q4: Using PyInputPlus, how do you ensure that the user enters a whole number between 0 and 99?"
   ]
  },
  {
   "cell_type": "markdown",
   "metadata": {},
   "source": [
    "This is an automatic response since pyinputplus will resolve this on its own."
   ]
  },
  {
   "cell_type": "code",
   "execution_count": 17,
   "metadata": {},
   "outputs": [],
   "source": [
    "import pyinputplus as pyip\n",
    "\n",
    "response = pyip.inputInt(prompt='Enter a number: ')"
   ]
  },
  {
   "cell_type": "markdown",
   "metadata": {},
   "source": [
    "# Q5: What is transferred to the keyword arguments allowRegexes and blockRegexes?"
   ]
  },
  {
   "cell_type": "markdown",
   "metadata": {},
   "source": [
    "We can set a list of regex strings to the allowRegexes parameter to the PyInputPlus functions. For example, if we want to make sure the user enters a phone number, we can write:\n",
    "\n",
    "import pyinputplus\n",
    "\n",
    "phone = pyinputplus.inputNum(prompt='What is your phone?', allowRegexes=[r'\\d{3}-\\d{3}-\\d{4}', r'None'])\n",
    "\n",
    "In the code above, we allow phone numbers to be entered as the input value by setting a list of regex with the phone number regex to it. Then we have to enter a phone number or 'None' before we can proceed."
   ]
  },
  {
   "cell_type": "markdown",
   "metadata": {},
   "source": [
    "# Q6: If a blank input is entered three times, what does inputStr(limit=3) do?"
   ]
  },
  {
   "cell_type": "markdown",
   "metadata": {},
   "source": [
    "The inputStr() function is used to take string inputs. We can set the prompt parameter to define a prompt before taking the input. It is similar to the prompt parameter of the built-in function input().\n",
    "\n",
    "We can allow blank values as valid input by setting the blank parameter as True. Certain inputs can be blocked (that is, these values are invalidated) by setting the blockRegexes parameter’s value as the regex pattern we want to invalidate."
   ]
  },
  {
   "cell_type": "markdown",
   "metadata": {},
   "source": [
    "# Q7: If blank input is entered three times, what does inputStr(limit=3, default='hello') do?"
   ]
  },
  {
   "cell_type": "markdown",
   "metadata": {},
   "source": [
    "It returns different ouptuts all the three times.\n",
    "\n",
    "1.It returns a None value for the first time.\n",
    "\n",
    "2.It does nothing, when the loop runs the second time.\n",
    "\n",
    "3.It causes an error to be raised, when the code runs the third time.\n",
    "\n",
    "Now when it runs for the fourth time, It returns the value N/A to the variable username"
   ]
  }
 ],
 "metadata": {
  "kernelspec": {
   "display_name": "Python 3",
   "language": "python",
   "name": "python3"
  },
  "language_info": {
   "codemirror_mode": {
    "name": "ipython",
    "version": 3
   },
   "file_extension": ".py",
   "mimetype": "text/x-python",
   "name": "python",
   "nbconvert_exporter": "python",
   "pygments_lexer": "ipython3",
   "version": "3.8.5"
  }
 },
 "nbformat": 4,
 "nbformat_minor": 4
}
