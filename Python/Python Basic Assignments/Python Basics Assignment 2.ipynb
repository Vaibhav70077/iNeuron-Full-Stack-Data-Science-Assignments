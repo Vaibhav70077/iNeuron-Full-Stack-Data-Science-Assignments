{
 "cells": [
  {
   "cell_type": "markdown",
   "metadata": {},
   "source": [
    "# Q1: What are the two values of the Boolean data type? How do you write them?"
   ]
  },
  {
   "cell_type": "code",
   "execution_count": 5,
   "metadata": {},
   "outputs": [
    {
     "name": "stdout",
     "output_type": "stream",
     "text": [
      "False\n",
      "False\n",
      "True\n"
     ]
    }
   ],
   "source": [
    "'''A boolean expression is a logical statement that returns either TRUE or FALSE, the two values of boolean data type.\n",
    "The two values of Boolean data types are:\n",
    "a. True: If any expression is True, it returns a one (1).\n",
    "b. False: If any expression is False, it returns a zero (0).\n",
    "You can test data to see if it is equal to, greater than, or less than other data.\n",
    "Ex:'''\n",
    "\n",
    "print(5 > 10)\n",
    "print(5 == 9)\n",
    "print(12 < 31)"
   ]
  },
  {
   "cell_type": "markdown",
   "metadata": {},
   "source": [
    "# Q2. What are the three different types of Boolean operators?"
   ]
  },
  {
   "cell_type": "code",
   "execution_count": 7,
   "metadata": {},
   "outputs": [
    {
     "name": "stdout",
     "output_type": "stream",
     "text": [
      "Enter the first number: 24\n",
      "Enter the second number: 544\n",
      "Enter the third number: 46\n",
      "The second number is the biggest between 24 , 544 and 46\n"
     ]
    }
   ],
   "source": [
    "'''The three different types of boolean operators are:\n",
    "\n",
    "a. AND:\n",
    "       \n",
    "Ex:'''\n",
    "\n",
    "a = int(input(\"Enter the first number: \"))\n",
    "b = int(input(\"Enter the second number: \"))\n",
    "c = int(input(\"Enter the third number: \"))\n",
    "\n",
    "if a>b and a>c:\n",
    "    print(\"The first number is the biggest between\",a,\",\",b,\"and\",c)\n",
    "elif b>c and b>a:\n",
    "    print(\"The second number is the biggest between\",a,\",\",b,\"and\",c)\n",
    "else:\n",
    "    print(\"The third number is the biggest between\",a,\",\",b,\"and\",c)"
   ]
  },
  {
   "cell_type": "code",
   "execution_count": 18,
   "metadata": {},
   "outputs": [
    {
     "name": "stdout",
     "output_type": "stream",
     "text": [
      "x or y is True\n"
     ]
    }
   ],
   "source": [
    "'''b. OR: \n",
    "\n",
    "Ex:'''\n",
    "\n",
    "x = True\n",
    "y = False\n",
    "print('x or y is',x or y)"
   ]
  },
  {
   "cell_type": "code",
   "execution_count": 23,
   "metadata": {},
   "outputs": [
    {
     "name": "stdout",
     "output_type": "stream",
     "text": [
      "Enter a number: 453\n",
      "The list is:  [234, 453, 5, 64, 35, 66] \n",
      "\n",
      "453 is present in given list\n"
     ]
    }
   ],
   "source": [
    "'''c. NOT: It eliminates items that contain the specified term. This is a way to re-fine search results. \n",
    "\n",
    " Note: sometimes AND NOT is used. (It serves the same function as NOT)\n",
    "\n",
    "Ex:'''\n",
    "\n",
    "x = int(input(\"Enter a number: \"))\n",
    "l = [234,453,5,64,35,66 ];\n",
    "print(\"The list is: \",l,\"\\n\")\n",
    "if x not in l:\n",
    "    print(x,\"is not present in given list\")\n",
    "else:\n",
    "    print(x,\"is present in given list\")"
   ]
  },
  {
   "cell_type": "markdown",
   "metadata": {},
   "source": [
    "# Q3: Make a list of each Boolean operator's truth tables (i.e. every possible combination of Boolean values for the operator and what it evaluate ).\n"
   ]
  },
  {
   "cell_type": "code",
   "execution_count": 24,
   "metadata": {},
   "outputs": [
    {
     "name": "stdout",
     "output_type": "stream",
     "text": [
      "False\n",
      "False\n",
      "True\n",
      "False\n",
      "\n",
      "\n",
      "True\n",
      "True\n",
      "True\n",
      "False\n",
      "\n",
      "\n",
      "False\n",
      "True\n"
     ]
    }
   ],
   "source": [
    "'''In case of True-False conditions, we have to remember that:\n",
    "\n",
    "AND\n",
    "0 AND 0 = 0\n",
    "0 AND 1 = 0\n",
    "1 AND 0 = 0\n",
    "1 AND 1 = 1\n",
    "\n",
    "OR\n",
    "0 OR 0 = 0\n",
    "0 OR 1 = 1\n",
    "1 OR 0 = 1\n",
    "1 OR 1 = 1\n",
    "\n",
    "NOT\n",
    "0 = 1\n",
    "1 = 0\n",
    "\n",
    "Where 0 is False and 1 is True.'''\n",
    "\n",
    "# AND:\n",
    "print(True and False)\n",
    "print(False and True)\n",
    "print(True and True)\n",
    "print(False and False)\n",
    "print(\"\\n\")\n",
    "# OR:\n",
    "print(True or False)\n",
    "print(False or True)\n",
    "print(True or True)\n",
    "print(False or False)\n",
    "print(\"\\n\")\n",
    "# Not:\n",
    "print(not(True))\n",
    "print(not(False))"
   ]
  },
  {
   "cell_type": "markdown",
   "metadata": {},
   "source": [
    "# Q4: What are the values of the following expressions?"
   ]
  },
  {
   "cell_type": "code",
   "execution_count": 27,
   "metadata": {},
   "outputs": [
    {
     "name": "stdout",
     "output_type": "stream",
     "text": [
      "False\n",
      "False\n",
      "True\n",
      "False\n",
      "False\n",
      "True\n"
     ]
    }
   ],
   "source": [
    "'''i. (5 > 4) and (3 == 5)\n",
    "\n",
    "ii. not (5 > 4)\n",
    "\n",
    "iii. (5 > 4) or (3 == 5)\n",
    "\n",
    "iv. not ((5 > 4) or (3 == 5))\n",
    "\n",
    "v. (True and True) and (True == False)\n",
    "\n",
    "vi. (not False) or (not True)'''\n",
    "\n",
    "print((5 > 4) and (3 == 5))\n",
    "print(not (5 > 4))\n",
    "print((5 > 4) or (3 == 5))\n",
    "print(not ((5 > 4) or (3 == 5)))\n",
    "print((True and True) and (True == False))\n",
    "print((not False) or (not True))"
   ]
  },
  {
   "cell_type": "markdown",
   "metadata": {},
   "source": [
    "# Q5: What are the six comparison operators?"
   ]
  },
  {
   "cell_type": "code",
   "execution_count": 28,
   "metadata": {},
   "outputs": [
    {
     "name": "stdout",
     "output_type": "stream",
     "text": [
      "False\n",
      "False\n",
      "True\n",
      "True\n",
      "False\n",
      "True\n"
     ]
    }
   ],
   "source": [
    "'''Less than (<)\n",
    "Less than or equal to (<=)\n",
    "Greater than (>)\n",
    "Greater than or equal to (>=)\n",
    "Equal to (==)\n",
    "Not equal to (!=)'''\n",
    "\n",
    "a = True \n",
    "b = False\n",
    "print(a<b)\n",
    "print(a<=b)\n",
    "print(a>b)\n",
    "print(a>=b)\n",
    "print(a==b)\n",
    "print(a!=b)"
   ]
  },
  {
   "cell_type": "markdown",
   "metadata": {},
   "source": [
    "# Q6: How do you tell the difference between the equal to and assignment operators?Describe a condition and when you would use one."
   ]
  },
  {
   "cell_type": "code",
   "execution_count": 33,
   "metadata": {},
   "outputs": [
    {
     "name": "stdout",
     "output_type": "stream",
     "text": [
      "Enter a name: vaibhav\n",
      "Entered string are same\n"
     ]
    }
   ],
   "source": [
    "'''This = operator assigns a value to a variable.\n",
    "\n",
    "This == operator evaluates 2 values and check the value is same or not.'''\n",
    "\n",
    "x = input(\"Enter a name: \")  # = operator is letting the variable 'x' save the user input.\n",
    "if x == 'vaibhav':   # == operator is checking if the user's input (saved in the variable x) is equal to the string or not.\n",
    "    print(\"Entered string are same\")\n",
    "else:\n",
    "    print(\"Entered string are not same\")"
   ]
  },
  {
   "cell_type": "markdown",
   "metadata": {},
   "source": [
    "# Q7. Identify the three blocks in this code:"
   ]
  },
  {
   "cell_type": "code",
   "execution_count": 35,
   "metadata": {},
   "outputs": [
    {
     "name": "stdout",
     "output_type": "stream",
     "text": [
      "ham\n",
      "spam\n",
      "spam\n"
     ]
    }
   ],
   "source": [
    "'''spam = 0\n",
    "if spam == 10:\n",
    "print('eggs')\n",
    "if spam > 5:\n",
    "print('bacon')\n",
    "else:\n",
    "print('ham')\n",
    "print('spam')\n",
    "print('spam')\n",
    "\n",
    "In Python, a block of code is implemented using indentation. The three block of codes in the above code are:'''\n",
    "    \n",
    "spam = 0\n",
    "\n",
    "if spam == 10:        # Block of code 1 start\n",
    "    print('eggs')     # Block of code 1 end\n",
    "if spam > 5:          # Block of code 2 start\n",
    "    print('bacon')    # Block of code 2 end\n",
    "else:                 # Block of code 3 start\n",
    "        print('ham')  # Block of code 3 continued\n",
    "        print('spam') # Block of code 3 continued\n",
    "        print('spam') # Block of code 3 end    "
   ]
  },
  {
   "cell_type": "markdown",
   "metadata": {},
   "source": [
    "# Q8: Write code that prints Hello if 1 is stored in spam, prints Howdy if 2 is stored in spam, and prints Greetings! if anything else is stored in spam."
   ]
  },
  {
   "cell_type": "code",
   "execution_count": 42,
   "metadata": {},
   "outputs": [
    {
     "name": "stdout",
     "output_type": "stream",
     "text": [
      "Enter 1 for Hello ,2 for Howdy or else it will print Greetings 2\n",
      "The number is 2\n",
      "HOWDY\n"
     ]
    }
   ],
   "source": [
    "spam = int(input(\"Enter 1 for Hello ,2 for Howdy or else it will print Greetings \"))\n",
    "print(\"The number is\",spam)\n",
    "if spam == 1:\n",
    "    print(\"HELLO\")\n",
    "elif spam == 2:\n",
    "    print(\"HOWDY\")\n",
    "else:\n",
    "    print(\"GREETINGS\")"
   ]
  },
  {
   "cell_type": "markdown",
   "metadata": {},
   "source": [
    "# Q9: If your programme is stuck in an endless loop, what keys you’ll press?"
   ]
  },
  {
   "cell_type": "markdown",
   "metadata": {},
   "source": [
    "We can use Ctrl + C to terminate the program"
   ]
  },
  {
   "cell_type": "markdown",
   "metadata": {},
   "source": [
    "# Q10: How can you tell the difference between break and continue?"
   ]
  },
  {
   "cell_type": "markdown",
   "metadata": {},
   "source": [
    "a. Break: The break statement terminates the loop where it is being used. The control of the program is re-directed to the statement immediately after the body of the loop. If the break statement is inside a nested loop (loop inside another loop), the break statement will terminate the innermost loop.\n",
    "\n",
    "b. Continue: The continue statement is used to skip the code within a loop for certain iterations of the loop. After the code is skipped, the loop continues where it left off."
   ]
  },
  {
   "cell_type": "code",
   "execution_count": 48,
   "metadata": {},
   "outputs": [
    {
     "name": "stdout",
     "output_type": "stream",
     "text": [
      "s\n",
      "t\n",
      "r\n",
      "i\n",
      "n\n",
      "g\n",
      " \n",
      "c\n",
      "o\n",
      "n\n",
      "c\n",
      "a\n",
      "t\n"
     ]
    }
   ],
   "source": [
    "# The break statement:\n",
    "for i in \"string concatenation\":\n",
    "    if i == \"e\":\n",
    "        break\n",
    "    print(i)"
   ]
  },
  {
   "cell_type": "code",
   "execution_count": 49,
   "metadata": {},
   "outputs": [
    {
     "name": "stdout",
     "output_type": "stream",
     "text": [
      "0\n",
      "1\n",
      "2\n",
      "4\n",
      "5\n",
      "6\n",
      "7\n",
      "9\n"
     ]
    }
   ],
   "source": [
    "\"\"\"\n",
    "The continue statement:\n",
    "(The code runs for values 0 - 9 but will skip printing 3 and 8 because of the conditions in the code)\n",
    "\"\"\"\n",
    "for i in range(10):\n",
    "    if i == 3:\n",
    "        continue \n",
    "    if i == 8:\n",
    "        continue\n",
    "    print(i)"
   ]
  },
  {
   "cell_type": "markdown",
   "metadata": {},
   "source": [
    "# Q11: In a for loop, what is the difference between range(10), range(0, 10), and range(0, 10, 1)?"
   ]
  },
  {
   "cell_type": "markdown",
   "metadata": {},
   "source": [
    "a. range(10) will run a for loop with initial i = 0 (1st index) until the 10th index (which will be number 9).\n",
    "\n",
    "b. range(0,10) will run a for loop with i = 0 (1st index) until the 10th index (which will be number 9).\n",
    "\n",
    "c. range(0,10,1) will run a for loop with initial i = 0 (1st index) until the 10th index (which will be number 9) with an increment of 1 variable with every loop iteration.    "
   ]
  },
  {
   "cell_type": "code",
   "execution_count": 52,
   "metadata": {},
   "outputs": [
    {
     "name": "stdout",
     "output_type": "stream",
     "text": [
      "0 1 2 3 4 5 6 7 8 9 \n",
      "\n",
      "0 1 2 3 4 5 6 7 8 9 \n",
      "\n",
      "0 1 2 3 4 5 6 7 8 9 "
     ]
    }
   ],
   "source": [
    "for i in range(10): \n",
    "    print(i,end=\" \")\n",
    "print(\"\\n\")    \n",
    "for i in range(0,10): \n",
    "    print(i,end=\" \")\n",
    "print(\"\\n\")    \n",
    "for i in range(0,10,1): \n",
    "    print(i,end=\" \")"
   ]
  },
  {
   "cell_type": "markdown",
   "metadata": {},
   "source": [
    "# Q12: Write a short program that prints the numbers 1 to 10 using a for loop. Then write an equivalent program that prints the numbers 1 to 10 using a while loop."
   ]
  },
  {
   "cell_type": "markdown",
   "metadata": {},
   "source": [
    "a. Using for loop:"
   ]
  },
  {
   "cell_type": "code",
   "execution_count": 54,
   "metadata": {},
   "outputs": [
    {
     "name": "stdout",
     "output_type": "stream",
     "text": [
      "The numbers are: \n",
      "\n",
      "1 2 3 4 5 6 7 8 9 10 "
     ]
    }
   ],
   "source": [
    "print(\"The numbers are: \\n\")\n",
    "for i  in range (1,11):\n",
    "    print(i,end=\" \")"
   ]
  },
  {
   "cell_type": "markdown",
   "metadata": {},
   "source": [
    "b. Using while loop:"
   ]
  },
  {
   "cell_type": "code",
   "execution_count": 56,
   "metadata": {},
   "outputs": [
    {
     "name": "stdout",
     "output_type": "stream",
     "text": [
      "The numbers are: \n",
      "\n",
      "1 2 3 4 5 6 7 8 9 10 "
     ]
    }
   ],
   "source": [
    "i=1\n",
    "print(\"The numbers are: \\n\")\n",
    "while i <= 10:\n",
    "    print(i,end=' ')\n",
    "    i+=1"
   ]
  },
  {
   "cell_type": "markdown",
   "metadata": {},
   "source": [
    "# Q13: If you had a function named bacon() inside a module named spam, how would you call it after importing spam?"
   ]
  },
  {
   "cell_type": "markdown",
   "metadata": {},
   "source": [
    "The function would be called spam.bacon()"
   ]
  }
 ],
 "metadata": {
  "kernelspec": {
   "display_name": "Python 3",
   "language": "python",
   "name": "python3"
  },
  "language_info": {
   "codemirror_mode": {
    "name": "ipython",
    "version": 3
   },
   "file_extension": ".py",
   "mimetype": "text/x-python",
   "name": "python",
   "nbconvert_exporter": "python",
   "pygments_lexer": "ipython3",
   "version": "3.8.5"
  }
 },
 "nbformat": 4,
 "nbformat_minor": 4
}
