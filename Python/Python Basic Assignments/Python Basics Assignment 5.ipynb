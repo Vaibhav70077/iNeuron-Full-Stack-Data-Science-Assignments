{
 "cells": [
  {
   "cell_type": "markdown",
   "metadata": {},
   "source": [
    "# Q1: What does an empty dictionary's code look like?"
   ]
  },
  {
   "cell_type": "markdown",
   "metadata": {},
   "source": [
    "An empty dictionary looks like:"
   ]
  },
  {
   "cell_type": "code",
   "execution_count": 5,
   "metadata": {},
   "outputs": [
    {
     "name": "stdout",
     "output_type": "stream",
     "text": [
      "{}\n",
      "<class 'dict'>\n"
     ]
    }
   ],
   "source": [
    "_dic = {}\n",
    "print(_dic)\n",
    "print(type(_dic))"
   ]
  },
  {
   "cell_type": "markdown",
   "metadata": {},
   "source": [
    "# Q2: What is the value of a dictionary value with the key 'foo' and the value 42?"
   ]
  },
  {
   "cell_type": "markdown",
   "metadata": {},
   "source": [
    "It will be shown as :"
   ]
  },
  {
   "cell_type": "code",
   "execution_count": 6,
   "metadata": {},
   "outputs": [
    {
     "name": "stdout",
     "output_type": "stream",
     "text": [
      "dict_keys(['foo'])\n",
      "dict_values([42])\n",
      "\n",
      " dict_items([('foo', 42)])\n"
     ]
    }
   ],
   "source": [
    "value = {'foo':42}\n",
    "print(value.keys())\n",
    "print(value.values())\n",
    "# printing all the items of the dictionary:\n",
    "print('\\n',value.items())"
   ]
  },
  {
   "cell_type": "markdown",
   "metadata": {},
   "source": [
    "# Q3: What is the most significant distinction between a dictionary and a list?"
   ]
  },
  {
   "cell_type": "markdown",
   "metadata": {},
   "source": [
    "Lists: They are used to store multiple items in a single variable. They are created using square brackets.\n",
    "\n",
    "Dictionaries: They are used to store data values in key:value pairs. A dictionary is a collection which is ordered, changeable and does not allow duplicates. They are written with curly brackets, and have keys and values."
   ]
  },
  {
   "cell_type": "code",
   "execution_count": 7,
   "metadata": {},
   "outputs": [
    {
     "name": "stdout",
     "output_type": "stream",
     "text": [
      "List is:-  [1, 2, 'z', 'x'] & type is:-  <class 'list'>\n",
      "\n",
      "Dictionary is:-  {1: 'abc', 2: 'def'} & type is:-  <class 'dict'> \n",
      "\n",
      "Keys in the dictionary are:-  dict_keys([1, 2])\n",
      "Values in the dictionary are:-  dict_values(['abc', 'def'])\n"
     ]
    }
   ],
   "source": [
    "# Lists is :\n",
    "lists_1 = [1,2,'z','x']\n",
    "print(\"List is:- \",lists_1,\"& type is:- \",type(lists_1))\n",
    "# Dictionaries is :\n",
    "dict_1 = {1:'abc',2:'def'}\n",
    "print(\"\\nDictionary is:- \",dict_1,\"& type is:- \",type(dict_1),\"\\n\")\n",
    "# printing keys and values:\n",
    "print(\"Keys in the dictionary are:- \",dict_1.keys())\n",
    "print(\"Values in the dictionary are:- \",dict_1.values())"
   ]
  },
  {
   "cell_type": "markdown",
   "metadata": {},
   "source": [
    "# Q4: What happens if you try to access spam['foo'] if spam is {'bar': 100}?"
   ]
  },
  {
   "cell_type": "markdown",
   "metadata": {},
   "source": [
    "Printing an absent items in the dictionary gives an error"
   ]
  },
  {
   "cell_type": "code",
   "execution_count": 8,
   "metadata": {},
   "outputs": [
    {
     "name": "stdout",
     "output_type": "stream",
     "text": [
      "Error is:-  'foo'\n"
     ]
    }
   ],
   "source": [
    "try:\n",
    "    spam = {'bar': 100}\n",
    "    print(spam['foo'])\n",
    "except (ValueError,KeyError,ArithmeticError) as e:\n",
    "    print(\"Error is:- \",e)"
   ]
  },
  {
   "cell_type": "markdown",
   "metadata": {},
   "source": [
    "# Q5: If a dictionary is stored in spam, what is the difference between the expressions 'cat' in spam and 'cat' in spam.keys()?"
   ]
  },
  {
   "cell_type": "markdown",
   "metadata": {},
   "source": [
    "The spam.items() prints all the items in the a dictionary 'spam'.\n",
    "\n",
    "The spam.keys() prints all the keys in the dictionary 'spam'."
   ]
  },
  {
   "cell_type": "code",
   "execution_count": 9,
   "metadata": {},
   "outputs": [
    {
     "name": "stdout",
     "output_type": "stream",
     "text": [
      "'cat' in spam and 'cat' in spam.keys() is:- \n",
      "\n",
      "Items are:- dict_items([('cat', 100)]) \n",
      "\n",
      "Keys are:- dict_keys(['cat'])\n"
     ]
    }
   ],
   "source": [
    "spam = {'cat': 100}\n",
    "print(\"'cat' in spam and 'cat' in spam.keys() is:- \\n\")\n",
    "print(\"Items are:-\",spam.items(),\"\\n\")\n",
    "print(\"Keys are:-\",spam.keys())"
   ]
  },
  {
   "cell_type": "markdown",
   "metadata": {},
   "source": [
    "# Q6: If a dictionary is stored in spam, what is the difference between the expressions 'cat' in spam and 'cat' in spam.values()?"
   ]
  },
  {
   "cell_type": "markdown",
   "metadata": {},
   "source": [
    "The spam.items() prints all the items in the a dictionary 'spam'.\n",
    "\n",
    "The spam.values() prints all the values in the dictionary 'spam'."
   ]
  },
  {
   "cell_type": "code",
   "execution_count": 11,
   "metadata": {},
   "outputs": [
    {
     "name": "stdout",
     "output_type": "stream",
     "text": [
      "'cat' in spam and 'cat' in spam.keys() is:- \n",
      "\n",
      "Items are:- dict_items([(100, 'cat')]) \n",
      "\n",
      "Values are:- dict_values(['cat'])\n"
     ]
    }
   ],
   "source": [
    "spam = {100 : 'cat'}\n",
    "print(\"'cat' in spam and 'cat' in spam.keys() is:- \\n\")\n",
    "print(\"Items are:-\",spam.items(),\"\\n\")\n",
    "print(\"Values are:-\",spam.values())"
   ]
  },
  {
   "cell_type": "markdown",
   "metadata": {},
   "source": [
    "# Q7: What is a shortcut for the following code:"
   ]
  },
  {
   "cell_type": "markdown",
   "metadata": {},
   "source": [
    "if 'color' not in spam, then add spam['color'] = 'black' in 'spam'."
   ]
  },
  {
   "cell_type": "code",
   "execution_count": 13,
   "metadata": {},
   "outputs": [
    {
     "name": "stdout",
     "output_type": "stream",
     "text": [
      "After dictionary updation :- {'cat': 100, 'color': 'black'}\n"
     ]
    }
   ],
   "source": [
    "spam = {'cat': 100}\n",
    "spam['color'] = 'black' # directly creating a new key-value pair in spam\n",
    "print(\"After dictionary updation :-\",spam)"
   ]
  },
  {
   "cell_type": "markdown",
   "metadata": {},
   "source": [
    "# Q8: How do you \"pretty print\" dictionary values using which module and function?"
   ]
  },
  {
   "cell_type": "markdown",
   "metadata": {},
   "source": [
    "pprint is a Python module that provides the capability to pretty print Python data types to be more readable. This module also supports pretty-printing dictionary.\n",
    "\n",
    "Within the pprint module there is a function with the same name pprint(), which is the function used to pretty-print the given string or object.\n",
    "\n",
    "First, declare an array of dictionaries. Afterward, pretty print it using the function pprint.pprint()."
   ]
  },
  {
   "cell_type": "code",
   "execution_count": 14,
   "metadata": {},
   "outputs": [
    {
     "name": "stdout",
     "output_type": "stream",
     "text": [
      "[{'Age': 26, 'Country': 'INDIA', 'First': 'Vaibhav', 'Last': 'Gupta'},\n",
      " {'Age': 25, 'Country': 'INDIA', 'First': 'Raghavan', 'Last': 'Verma'},\n",
      " {'Age': 55, 'Country': 'USA', 'First': 'Ben', 'Last': 'Affleck'},\n",
      " {'Age': 69, 'Country': 'UK', 'First': 'Liam', 'Last': 'Neeson'}]\n"
     ]
    }
   ],
   "source": [
    "import pprint\n",
    "dct_array = [\n",
    "  {'First': 'Vaibhav', 'Last': 'Gupta','Age': 26 , 'Country': 'INDIA'},\n",
    "  {'First': 'Raghavan', 'Last': 'Verma','Age': 25 , 'Country': 'INDIA'},\n",
    "  {'First': 'Ben', 'Last': 'Affleck','Age': 55 , 'Country': 'USA'},\n",
    "  {'First': 'Liam', 'Last': 'Neeson','Age': 69 , 'Country': 'UK'}\n",
    "]\n",
    "pprint.pprint(dct_array)"
   ]
  }
 ],
 "metadata": {
  "kernelspec": {
   "display_name": "Python 3",
   "language": "python",
   "name": "python3"
  },
  "language_info": {
   "codemirror_mode": {
    "name": "ipython",
    "version": 3
   },
   "file_extension": ".py",
   "mimetype": "text/x-python",
   "name": "python",
   "nbconvert_exporter": "python",
   "pygments_lexer": "ipython3",
   "version": "3.8.5"
  }
 },
 "nbformat": 4,
 "nbformat_minor": 4
}
