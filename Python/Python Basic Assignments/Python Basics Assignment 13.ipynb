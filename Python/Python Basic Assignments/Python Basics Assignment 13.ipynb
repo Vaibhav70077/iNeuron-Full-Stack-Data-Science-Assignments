{
 "cells": [
  {
   "cell_type": "markdown",
   "metadata": {},
   "source": [
    "# Q1: What advantages do Excel spreadsheets have over CSV spreadsheets?"
   ]
  },
  {
   "cell_type": "markdown",
   "metadata": {},
   "source": [
    "Excel is a binary file that holds information about all the worksheets in a workbook while CSV stands for Comma Separated Values. It is a plain text format with a series of values separated by commas.\n",
    "\n",
    "The major differences are:\n",
    "\n",
    "1. CSV is a format for saving tabular information into a delimited text file with extension .csv whereas Excel is a spreadsheet that keeps files into its own proprietary format viz xls or xlsx, implying it is easier and more versatile to work with.\n",
    "2. CSV is a plain text format with a series of values separated by commas whereas Excel is a binary file that holds information about all the worksheets in a workbook.\n",
    "3. CSV file can’t perform operations on data while Excel can perform operations on the data.\n",
    "4. CSV files are faster and also consumes less memory whereas Excel consumes more memory while importing data.\n",
    "5. CSV files can be opened with any text editor in windows while Excel files can’t be opened with text editors."
   ]
  },
  {
   "cell_type": "markdown",
   "metadata": {},
   "source": [
    "# Q2: What do you pass to csv.reader() and csv.writer() to create reader and writer objects?"
   ]
  },
  {
   "cell_type": "markdown",
   "metadata": {},
   "source": [
    "1. csv.reader(): Reading from a CSV file is done using the reader object function."
   ]
  },
  {
   "cell_type": "code",
   "execution_count": 20,
   "metadata": {},
   "outputs": [],
   "source": [
    "x = 0\n",
    "import csv\n",
    "with open('people.csv', 'r') as file:\n",
    "    reader = csv.reader(file)\n",
    "    for row in reader:\n",
    "        print(row,\"\\n\")\n",
    "        x+=1\n",
    "        if x == 5:break\n",
    "        else: continue"
   ]
  },
  {
   "cell_type": "markdown",
   "metadata": {},
   "source": [
    "1. csv.writer(): The csv.writer() function returns a writer object that converts the user's data into a delimited string."
   ]
  },
  {
   "cell_type": "code",
   "execution_count": 21,
   "metadata": {},
   "outputs": [],
   "source": [
    "import csv\n",
    "with open('people.csv', 'w', newline='') as file: # replaces the entire content of the file with the 2 datasets\n",
    "    writer = csv.writer(file)\n",
    "    writer.writerow([\"SN\", \"Movie\", \"Protagonist\"])\n",
    "    writer.writerow([1, \"Batman\", \"Ben Affleck\"])\n",
    "    writer.writerow([2, \"Superman\", \"Henry Cavill\"])\n",
    "df = pd.read_csv('people.csv') # printing the file to see the changes\n",
    "df"
   ]
  },
  {
   "cell_type": "raw",
   "metadata": {},
   "source": [
    "SN\t       Movie\t         Protagonist\n",
    "1\t      Batman\t         Ben Affleck\n",
    "2\t     Superman\t         Henry Cavill"
   ]
  },
  {
   "cell_type": "markdown",
   "metadata": {},
   "source": [
    "# Q3: What modes do File objects for reader and writer objects need to be opened in?"
   ]
  },
  {
   "cell_type": "markdown",
   "metadata": {},
   "source": [
    "Giving second argument to the open() function is optional which is the mode.\n",
    "\n",
    "We can specify the mode while opening a file, i.e. whether we want to read ‘r’, write ‘w’ or append ‘a’ to the file.\n",
    "\n",
    "We can also specify if we want to open the file in text mode or binary mode. The default mode is text mode where we get strings when reading from the file."
   ]
  },
  {
   "cell_type": "markdown",
   "metadata": {},
   "source": [
    "# Q4: What method takes a list argument and writes it to a CSV file?"
   ]
  },
  {
   "cell_type": "markdown",
   "metadata": {},
   "source": [
    "Here, lets suppose that the student.csv is the name of the file and the “w” mode is used to write the file. To write the list to the CSV file write = csv.writer(f), to write each row of the list to csv file writer.writerow() is used."
   ]
  },
  {
   "cell_type": "code",
   "execution_count": 22,
   "metadata": {},
   "outputs": [],
   "source": [
    "import csv \n",
    "Details = ['Name', 'College Year', 'Year of Graduation', 'Subjects']  \n",
    "rows = [ ['Aaron', '2nd', '2023', 'Astrological Physics'],  ['Johnny', '3rd', '2022', 'Stats & Mathematics'],  ['Alan', '4th', '2021', 'Rocket Engineering']] \n",
    "with open('student.csv', 'w') as f: \n",
    "    write = csv.writer(f) \n",
    "    write.writerow(Details) \n",
    "    write.writerows(rows) \n",
    "    \n",
    "l = pd.read_csv('student.csv')\n",
    "l"
   ]
  },
  {
   "cell_type": "raw",
   "metadata": {},
   "source": [
    "    Name\tCollege Year\tYear of Graduation\tSubjects\n",
    "0\tAnmol\t2nd\t    2023\t    Astrological Physics\n",
    "1\tPratek\t3rd\t    2022\t    Stats & Mathematics\n",
    "2\tKaran\t4th\t    2021\t    Rocket Engineering"
   ]
  },
  {
   "cell_type": "markdown",
   "metadata": {},
   "source": [
    "# Q5: What do the keyword arguments delimiter and line terminator do?"
   ]
  },
  {
   "cell_type": "markdown",
   "metadata": {},
   "source": [
    "The line terminator is the character that comes at the end of a row. By default, the line terminator is a newline. You can change characters to different values by using the delimiter and lineterminator keyword arguments with csv. writer()."
   ]
  },
  {
   "cell_type": "markdown",
   "metadata": {},
   "source": [
    "# Q6: What function takes a string of JSON data and returns a Python data structure?"
   ]
  },
  {
   "cell_type": "markdown",
   "metadata": {},
   "source": [
    "JSON is written as key and value pair. JSON is very similar to Python dictionary. Python supports JSON, and it has an inbuilt library, called JSON."
   ]
  },
  {
   "cell_type": "markdown",
   "metadata": {},
   "source": [
    "{\"Key\":\"Value\", \"Key\":\"Value\",}\n",
    "\n",
    "The encode() function is same as JSON dumping the Python method returning a JSON string of Python data structure."
   ]
  },
  {
   "cell_type": "markdown",
   "metadata": {},
   "source": [
    "# Q7: What function takes a Python data structure and returns a string of JSON data?"
   ]
  },
  {
   "cell_type": "markdown",
   "metadata": {},
   "source": [
    "the loads() function returns the Python data structure of JSON string or data."
   ]
  }
 ],
 "metadata": {
  "kernelspec": {
   "display_name": "Python 3",
   "language": "python",
   "name": "python3"
  },
  "language_info": {
   "codemirror_mode": {
    "name": "ipython",
    "version": 3
   },
   "file_extension": ".py",
   "mimetype": "text/x-python",
   "name": "python",
   "nbconvert_exporter": "python",
   "pygments_lexer": "ipython3",
   "version": "3.8.5"
  }
 },
 "nbformat": 4,
 "nbformat_minor": 4
}
