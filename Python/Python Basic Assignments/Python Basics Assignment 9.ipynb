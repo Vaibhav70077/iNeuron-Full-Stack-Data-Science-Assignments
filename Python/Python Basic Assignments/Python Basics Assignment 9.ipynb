{
 "cells": [
  {
   "cell_type": "markdown",
   "metadata": {},
   "source": [
    "# Q1: To what does a relative path refer?"
   ]
  },
  {
   "cell_type": "markdown",
   "metadata": {},
   "source": [
    "The OS module in Python provides functions for interacting with the operating system. The OS comes under Python’s standard utility modules. This module provides a portable way of using operating system dependent functionality. os.path module is sub module of OS module in Python used for common path name manipulation.\n",
    "\n",
    "os.path.relpath() method in Python is used to get a relative filepath to the given path either from the current working directory or from the given directory."
   ]
  },
  {
   "cell_type": "markdown",
   "metadata": {},
   "source": [
    "# Q2: What does an absolute path start with your operating system?"
   ]
  },
  {
   "cell_type": "markdown",
   "metadata": {},
   "source": [
    "An absolute path refers to the complete details needed to locate a file or folder, starting from the root element and ending with the other subdirectories. Absolute paths are used in websites and operating systems for locating files and folders. It is defined as the specifying the location of a file or directory from the root directory(/).\n",
    "\n",
    "It is also known as an absolute pathname or full path.\n",
    "\n",
    "To write an absolute path-name:\n",
    "\n",
    "Start at the root directory ( / ) and work down. Write a slash ( / ) after every directory name (last one is optional)"
   ]
  },
  {
   "cell_type": "markdown",
   "metadata": {},
   "source": [
    "# Q3: What do the functions os.getcwd() and os.chdir() do?"
   ]
  },
  {
   "cell_type": "markdown",
   "metadata": {},
   "source": [
    "The OS module in Python provides functions for interacting with the operating system. OS, comes under Python’s standard utility modules. This module provides a portable way of using operating system dependent functionality.\n",
    "\n",
    "os.getcwd() : This method in Python is used to print the current working directory to the specified path.\n",
    "\n",
    "os.chdir() : This method in Python used to change the current working directory to the specified path. It takes only a single argument as a new directory path."
   ]
  },
  {
   "cell_type": "code",
   "execution_count": 1,
   "metadata": {},
   "outputs": [
    {
     "data": {
      "text/plain": [
       "'C:\\\\Users\\\\UjjwalGupta'"
      ]
     },
     "execution_count": 1,
     "metadata": {},
     "output_type": "execute_result"
    }
   ],
   "source": [
    "import os\n",
    "os.getcwd()"
   ]
  },
  {
   "cell_type": "code",
   "execution_count": 3,
   "metadata": {},
   "outputs": [
    {
     "data": {
      "text/plain": [
       "'C:\\\\Users\\\\UjjwalGupta\\\\logging'"
      ]
     },
     "execution_count": 3,
     "metadata": {},
     "output_type": "execute_result"
    }
   ],
   "source": [
    "os.chdir(\"C:\\\\Users\\\\UjjwalGupta\\\\logging\")\n",
    "os.getcwd()"
   ]
  },
  {
   "cell_type": "markdown",
   "metadata": {},
   "source": [
    "# Q4: What are the ./ and ../ folders?"
   ]
  },
  {
   "cell_type": "markdown",
   "metadata": {},
   "source": [
    "We can get the present working directory using the getcwd() method of the os module.\n",
    "\n",
    "This method returns the current working directory in the form of a string. We can also use the getcwdb() method to get it as bytes object.\n",
    "\n",
    "The extra backslash implies an escape sequence. The print() function will render this properly."
   ]
  },
  {
   "cell_type": "markdown",
   "metadata": {},
   "source": [
    "# Q5: In C:\\bacon\\eggs\\spam.txt, which part is the dir name, and which part is the base name?"
   ]
  },
  {
   "cell_type": "markdown",
   "metadata": {},
   "source": [
    "C:\\bacon\\eggs is the directory name and spam.txt is the base name."
   ]
  },
  {
   "cell_type": "markdown",
   "metadata": {},
   "source": [
    "# Q6: What are the three “mode” arguments that can be passed to the open( ) function?"
   ]
  },
  {
   "cell_type": "markdown",
   "metadata": {},
   "source": [
    "The open() function is used to open a file in read or write mode and it will return a file object. To return a file object, we use open() function along with two arguments which accepts the file name and the mode, whether to read or to write.\n",
    "\n",
    "The syntax for the funtion becomes: open(filename, mode).\n",
    "\n",
    "There are three kinds of mode, that Python provides and how files can be opened:\n",
    "\n",
    "i. “ r “, for reading.\n",
    "\n",
    "ii. “ w “, for writing.\n",
    "\n",
    "iii. “ a “, for appending.\n",
    "\n",
    "iv. “ r+ “, for both reading and writing\n",
    "\n",
    "One must keep in mind that the mode argument is not mandatory. If not passed, then Python will assume it to be “ r ” by default."
   ]
  },
  {
   "cell_type": "code",
   "execution_count": 25,
   "metadata": {},
   "outputs": [],
   "source": [
    "file = open('yds_data copy.csv', 'r') # opening the file in read mode\n",
    "for each in file:\n",
    "    print (each)"
   ]
  },
  {
   "cell_type": "markdown",
   "metadata": {},
   "source": [
    "# Q7: What happens if an existing file is opened in write mode?"
   ]
  },
  {
   "cell_type": "markdown",
   "metadata": {},
   "source": [
    "While opening a file in write mode, “w” is specified, as we used the \"r\" to open it for reading.\n",
    "\n",
    "When mode “w” is specified, it creates an empty file for output operations.\n",
    "\n",
    "If a file with the same name already exists, its contents are discarded and the file is treated as a new empty file."
   ]
  },
  {
   "cell_type": "markdown",
   "metadata": {},
   "source": [
    "# Q8: How do you tell the difference between read() and readlines()?"
   ]
  },
  {
   "cell_type": "markdown",
   "metadata": {},
   "source": [
    "The .read() function would treat each character in the file separately, meaning that the iteration would happen for every character.\n",
    "\n",
    "The readline() function, on the other hand, only reads a single line of the file"
   ]
  },
  {
   "cell_type": "markdown",
   "metadata": {},
   "source": [
    "# Q9: What data structure does a shelf value resemble?"
   ]
  },
  {
   "cell_type": "markdown",
   "metadata": {},
   "source": [
    "A shelf value resembles a dictionary value; it has keys and values, along with keys() and values() methods that work similarly to the dictionary methods of the same names."
   ]
  }
 ],
 "metadata": {
  "kernelspec": {
   "display_name": "Python 3",
   "language": "python",
   "name": "python3"
  },
  "language_info": {
   "codemirror_mode": {
    "name": "ipython",
    "version": 3
   },
   "file_extension": ".py",
   "mimetype": "text/x-python",
   "name": "python",
   "nbconvert_exporter": "python",
   "pygments_lexer": "ipython3",
   "version": "3.8.5"
  }
 },
 "nbformat": 4,
 "nbformat_minor": 4
}
